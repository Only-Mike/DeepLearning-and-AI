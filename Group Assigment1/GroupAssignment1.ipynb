{
  "cells": [
    {
      "cell_type": "markdown",
      "metadata": {
        "id": "view-in-github",
        "colab_type": "text"
      },
      "source": [
        "<a href=\"https://colab.research.google.com/github/Only-Mike/DeepLearning-and-AI/blob/main/Group%20Assigment1/GroupAssignment1.ipynb\" target=\"_parent\"><img src=\"https://colab.research.google.com/assets/colab-badge.svg\" alt=\"Open In Colab\"/></a>"
      ]
    },
    {
      "cell_type": "code",
      "execution_count": null,
      "metadata": {
        "id": "3pn7awgj5Rlh"
      },
      "outputs": [],
      "source": [
        "\n",
        "# Importing Required Libraries\n",
        "import pandas as pd\n",
        "import numpy as np \n",
        "import torch\n",
        "import matplotlib.pyplot as plt\n",
        "from tqdm import tqdm_notebook\n",
        "from sklearn.metrics import accuracy_score, mean_squared_error\n",
        "from statistics import mean\n",
        "from sklearn.preprocessing import MinMaxScaler"
      ]
    },
    {
      "cell_type": "code",
      "execution_count": null,
      "metadata": {
        "id": "GvMYxhcb5Ri1"
      },
      "outputs": [],
      "source": [
        "# We have chosen the penguin dataset from Supervised Machine Learning M1\n",
        "data = pd.read_csv(\"https://github.com/allisonhorst/palmerpenguins/raw/5b5891f01b52ae26ad8cb9755ec93672f49328a8/data/penguins_size.csv\")"
      ]
    },
    {
      "cell_type": "code",
      "execution_count": null,
      "metadata": {
        "colab": {
          "base_uri": "https://localhost:8080/",
          "height": 473
        },
        "id": "BDq0TDJg-kx9",
        "outputId": "7f49e866-189f-4e15-a1f4-4e375baadd97"
      },
      "outputs": [
        {
          "data": {
            "text/html": [
              "<div>\n",
              "<style scoped>\n",
              "    .dataframe tbody tr th:only-of-type {\n",
              "        vertical-align: middle;\n",
              "    }\n",
              "\n",
              "    .dataframe tbody tr th {\n",
              "        vertical-align: top;\n",
              "    }\n",
              "\n",
              "    .dataframe thead th {\n",
              "        text-align: right;\n",
              "    }\n",
              "</style>\n",
              "<table border=\"1\" class=\"dataframe\">\n",
              "  <thead>\n",
              "    <tr style=\"text-align: right;\">\n",
              "      <th></th>\n",
              "      <th>species_short</th>\n",
              "      <th>island</th>\n",
              "      <th>culmen_length_mm</th>\n",
              "      <th>culmen_depth_mm</th>\n",
              "      <th>flipper_length_mm</th>\n",
              "      <th>body_mass_g</th>\n",
              "      <th>sex</th>\n",
              "    </tr>\n",
              "  </thead>\n",
              "  <tbody>\n",
              "    <tr>\n",
              "      <th>0</th>\n",
              "      <td>Adelie</td>\n",
              "      <td>Torgersen</td>\n",
              "      <td>39.1</td>\n",
              "      <td>18.7</td>\n",
              "      <td>181.0</td>\n",
              "      <td>3750.0</td>\n",
              "      <td>MALE</td>\n",
              "    </tr>\n",
              "    <tr>\n",
              "      <th>1</th>\n",
              "      <td>Adelie</td>\n",
              "      <td>Torgersen</td>\n",
              "      <td>39.5</td>\n",
              "      <td>17.4</td>\n",
              "      <td>186.0</td>\n",
              "      <td>3800.0</td>\n",
              "      <td>FEMALE</td>\n",
              "    </tr>\n",
              "    <tr>\n",
              "      <th>2</th>\n",
              "      <td>Adelie</td>\n",
              "      <td>Torgersen</td>\n",
              "      <td>40.3</td>\n",
              "      <td>18.0</td>\n",
              "      <td>195.0</td>\n",
              "      <td>3250.0</td>\n",
              "      <td>FEMALE</td>\n",
              "    </tr>\n",
              "    <tr>\n",
              "      <th>3</th>\n",
              "      <td>Adelie</td>\n",
              "      <td>Torgersen</td>\n",
              "      <td>NaN</td>\n",
              "      <td>NaN</td>\n",
              "      <td>NaN</td>\n",
              "      <td>NaN</td>\n",
              "      <td>NaN</td>\n",
              "    </tr>\n",
              "    <tr>\n",
              "      <th>4</th>\n",
              "      <td>Adelie</td>\n",
              "      <td>Torgersen</td>\n",
              "      <td>36.7</td>\n",
              "      <td>19.3</td>\n",
              "      <td>193.0</td>\n",
              "      <td>3450.0</td>\n",
              "      <td>FEMALE</td>\n",
              "    </tr>\n",
              "  </tbody>\n",
              "</table>\n",
              "</div>"
            ],
            "text/plain": [
              "  species_short     island  culmen_length_mm  culmen_depth_mm  \\\n",
              "0        Adelie  Torgersen              39.1             18.7   \n",
              "1        Adelie  Torgersen              39.5             17.4   \n",
              "2        Adelie  Torgersen              40.3             18.0   \n",
              "3        Adelie  Torgersen               NaN              NaN   \n",
              "4        Adelie  Torgersen              36.7             19.3   \n",
              "\n",
              "   flipper_length_mm  body_mass_g     sex  \n",
              "0              181.0       3750.0    MALE  \n",
              "1              186.0       3800.0  FEMALE  \n",
              "2              195.0       3250.0  FEMALE  \n",
              "3                NaN          NaN     NaN  \n",
              "4              193.0       3450.0  FEMALE  "
            ]
          },
          "execution_count": 25,
          "metadata": {},
          "output_type": "execute_result"
        }
      ],
      "source": [
        "data.head()"
      ]
    },
    {
      "cell_type": "code",
      "execution_count": null,
      "metadata": {
        "id": "547KokMnqVzo"
      },
      "outputs": [],
      "source": [
        "# Dropping NA's\n",
        "data.dropna(inplace=True)"
      ]
    },
    {
      "cell_type": "code",
      "execution_count": null,
      "metadata": {
        "id": "cdt89cUe-vUZ"
      },
      "outputs": [],
      "source": [
        "# Choosing the numerical values for simplicity\n",
        "data_nn = data[['culmen_length_mm', 'culmen_depth_mm', 'flipper_length_mm', 'body_mass_g']]"
      ]
    },
    {
      "cell_type": "code",
      "execution_count": null,
      "metadata": {
        "colab": {
          "base_uri": "https://localhost:8080/",
          "height": 423
        },
        "id": "hALRu9bYBix7",
        "outputId": "2971e18c-4d0d-42c0-e6a2-6a4074e7d909"
      },
      "outputs": [
        {
          "data": {
            "text/html": [
              "<div>\n",
              "<style scoped>\n",
              "    .dataframe tbody tr th:only-of-type {\n",
              "        vertical-align: middle;\n",
              "    }\n",
              "\n",
              "    .dataframe tbody tr th {\n",
              "        vertical-align: top;\n",
              "    }\n",
              "\n",
              "    .dataframe thead th {\n",
              "        text-align: right;\n",
              "    }\n",
              "</style>\n",
              "<table border=\"1\" class=\"dataframe\">\n",
              "  <thead>\n",
              "    <tr style=\"text-align: right;\">\n",
              "      <th></th>\n",
              "      <th>culmen_length_mm</th>\n",
              "      <th>culmen_depth_mm</th>\n",
              "      <th>flipper_length_mm</th>\n",
              "      <th>body_mass_g</th>\n",
              "    </tr>\n",
              "  </thead>\n",
              "  <tbody>\n",
              "    <tr>\n",
              "      <th>0</th>\n",
              "      <td>39.1</td>\n",
              "      <td>18.7</td>\n",
              "      <td>181.0</td>\n",
              "      <td>3750.0</td>\n",
              "    </tr>\n",
              "    <tr>\n",
              "      <th>1</th>\n",
              "      <td>39.5</td>\n",
              "      <td>17.4</td>\n",
              "      <td>186.0</td>\n",
              "      <td>3800.0</td>\n",
              "    </tr>\n",
              "    <tr>\n",
              "      <th>2</th>\n",
              "      <td>40.3</td>\n",
              "      <td>18.0</td>\n",
              "      <td>195.0</td>\n",
              "      <td>3250.0</td>\n",
              "    </tr>\n",
              "    <tr>\n",
              "      <th>4</th>\n",
              "      <td>36.7</td>\n",
              "      <td>19.3</td>\n",
              "      <td>193.0</td>\n",
              "      <td>3450.0</td>\n",
              "    </tr>\n",
              "    <tr>\n",
              "      <th>5</th>\n",
              "      <td>39.3</td>\n",
              "      <td>20.6</td>\n",
              "      <td>190.0</td>\n",
              "      <td>3650.0</td>\n",
              "    </tr>\n",
              "    <tr>\n",
              "      <th>...</th>\n",
              "      <td>...</td>\n",
              "      <td>...</td>\n",
              "      <td>...</td>\n",
              "      <td>...</td>\n",
              "    </tr>\n",
              "    <tr>\n",
              "      <th>338</th>\n",
              "      <td>47.2</td>\n",
              "      <td>13.7</td>\n",
              "      <td>214.0</td>\n",
              "      <td>4925.0</td>\n",
              "    </tr>\n",
              "    <tr>\n",
              "      <th>340</th>\n",
              "      <td>46.8</td>\n",
              "      <td>14.3</td>\n",
              "      <td>215.0</td>\n",
              "      <td>4850.0</td>\n",
              "    </tr>\n",
              "    <tr>\n",
              "      <th>341</th>\n",
              "      <td>50.4</td>\n",
              "      <td>15.7</td>\n",
              "      <td>222.0</td>\n",
              "      <td>5750.0</td>\n",
              "    </tr>\n",
              "    <tr>\n",
              "      <th>342</th>\n",
              "      <td>45.2</td>\n",
              "      <td>14.8</td>\n",
              "      <td>212.0</td>\n",
              "      <td>5200.0</td>\n",
              "    </tr>\n",
              "    <tr>\n",
              "      <th>343</th>\n",
              "      <td>49.9</td>\n",
              "      <td>16.1</td>\n",
              "      <td>213.0</td>\n",
              "      <td>5400.0</td>\n",
              "    </tr>\n",
              "  </tbody>\n",
              "</table>\n",
              "<p>334 rows × 4 columns</p>\n",
              "</div>"
            ],
            "text/plain": [
              "     culmen_length_mm  culmen_depth_mm  flipper_length_mm  body_mass_g\n",
              "0                39.1             18.7              181.0       3750.0\n",
              "1                39.5             17.4              186.0       3800.0\n",
              "2                40.3             18.0              195.0       3250.0\n",
              "4                36.7             19.3              193.0       3450.0\n",
              "5                39.3             20.6              190.0       3650.0\n",
              "..                ...              ...                ...          ...\n",
              "338              47.2             13.7              214.0       4925.0\n",
              "340              46.8             14.3              215.0       4850.0\n",
              "341              50.4             15.7              222.0       5750.0\n",
              "342              45.2             14.8              212.0       5200.0\n",
              "343              49.9             16.1              213.0       5400.0\n",
              "\n",
              "[334 rows x 4 columns]"
            ]
          },
          "execution_count": 33,
          "metadata": {},
          "output_type": "execute_result"
        }
      ],
      "source": [
        "data_nn"
      ]
    },
    {
      "cell_type": "code",
      "execution_count": null,
      "metadata": {
        "id": "tO6jU9VIKRmv"
      },
      "outputs": [],
      "source": [
        "# import and instantiate scaler\n",
        "scaler = MinMaxScaler()\n",
        "data_scaled = scaler.fit_transform(data_nn)\n",
        "data_s = pd.DataFrame(data_scaled, columns=['culmen_length_mm', 'culmen_depth_mm', 'flipper_length_mm', 'body_mass_g'])"
      ]
    },
    {
      "cell_type": "code",
      "execution_count": null,
      "metadata": {
        "id": "1flXpP0NqVzp",
        "outputId": "fb684c1e-ba42-4057-d079-ebdaf67c0c44"
      },
      "outputs": [
        {
          "data": {
            "text/html": [
              "<div>\n",
              "<style scoped>\n",
              "    .dataframe tbody tr th:only-of-type {\n",
              "        vertical-align: middle;\n",
              "    }\n",
              "\n",
              "    .dataframe tbody tr th {\n",
              "        vertical-align: top;\n",
              "    }\n",
              "\n",
              "    .dataframe thead th {\n",
              "        text-align: right;\n",
              "    }\n",
              "</style>\n",
              "<table border=\"1\" class=\"dataframe\">\n",
              "  <thead>\n",
              "    <tr style=\"text-align: right;\">\n",
              "      <th></th>\n",
              "      <th>culmen_length_mm</th>\n",
              "      <th>culmen_depth_mm</th>\n",
              "      <th>flipper_length_mm</th>\n",
              "      <th>body_mass_g</th>\n",
              "    </tr>\n",
              "  </thead>\n",
              "  <tbody>\n",
              "    <tr>\n",
              "      <th>0</th>\n",
              "      <td>0.254545</td>\n",
              "      <td>0.666667</td>\n",
              "      <td>0.152542</td>\n",
              "      <td>0.291667</td>\n",
              "    </tr>\n",
              "    <tr>\n",
              "      <th>1</th>\n",
              "      <td>0.269091</td>\n",
              "      <td>0.511905</td>\n",
              "      <td>0.237288</td>\n",
              "      <td>0.305556</td>\n",
              "    </tr>\n",
              "    <tr>\n",
              "      <th>2</th>\n",
              "      <td>0.298182</td>\n",
              "      <td>0.583333</td>\n",
              "      <td>0.389831</td>\n",
              "      <td>0.152778</td>\n",
              "    </tr>\n",
              "    <tr>\n",
              "      <th>3</th>\n",
              "      <td>0.167273</td>\n",
              "      <td>0.738095</td>\n",
              "      <td>0.355932</td>\n",
              "      <td>0.208333</td>\n",
              "    </tr>\n",
              "    <tr>\n",
              "      <th>4</th>\n",
              "      <td>0.261818</td>\n",
              "      <td>0.892857</td>\n",
              "      <td>0.305085</td>\n",
              "      <td>0.263889</td>\n",
              "    </tr>\n",
              "    <tr>\n",
              "      <th>...</th>\n",
              "      <td>...</td>\n",
              "      <td>...</td>\n",
              "      <td>...</td>\n",
              "      <td>...</td>\n",
              "    </tr>\n",
              "    <tr>\n",
              "      <th>329</th>\n",
              "      <td>0.549091</td>\n",
              "      <td>0.071429</td>\n",
              "      <td>0.711864</td>\n",
              "      <td>0.618056</td>\n",
              "    </tr>\n",
              "    <tr>\n",
              "      <th>330</th>\n",
              "      <td>0.534545</td>\n",
              "      <td>0.142857</td>\n",
              "      <td>0.728814</td>\n",
              "      <td>0.597222</td>\n",
              "    </tr>\n",
              "    <tr>\n",
              "      <th>331</th>\n",
              "      <td>0.665455</td>\n",
              "      <td>0.309524</td>\n",
              "      <td>0.847458</td>\n",
              "      <td>0.847222</td>\n",
              "    </tr>\n",
              "    <tr>\n",
              "      <th>332</th>\n",
              "      <td>0.476364</td>\n",
              "      <td>0.202381</td>\n",
              "      <td>0.677966</td>\n",
              "      <td>0.694444</td>\n",
              "    </tr>\n",
              "    <tr>\n",
              "      <th>333</th>\n",
              "      <td>0.647273</td>\n",
              "      <td>0.357143</td>\n",
              "      <td>0.694915</td>\n",
              "      <td>0.750000</td>\n",
              "    </tr>\n",
              "  </tbody>\n",
              "</table>\n",
              "<p>334 rows × 4 columns</p>\n",
              "</div>"
            ],
            "text/plain": [
              "     culmen_length_mm  culmen_depth_mm  flipper_length_mm  body_mass_g\n",
              "0            0.254545         0.666667           0.152542     0.291667\n",
              "1            0.269091         0.511905           0.237288     0.305556\n",
              "2            0.298182         0.583333           0.389831     0.152778\n",
              "3            0.167273         0.738095           0.355932     0.208333\n",
              "4            0.261818         0.892857           0.305085     0.263889\n",
              "..                ...              ...                ...          ...\n",
              "329          0.549091         0.071429           0.711864     0.618056\n",
              "330          0.534545         0.142857           0.728814     0.597222\n",
              "331          0.665455         0.309524           0.847458     0.847222\n",
              "332          0.476364         0.202381           0.677966     0.694444\n",
              "333          0.647273         0.357143           0.694915     0.750000\n",
              "\n",
              "[334 rows x 4 columns]"
            ]
          },
          "execution_count": 46,
          "metadata": {},
          "output_type": "execute_result"
        }
      ],
      "source": [
        "data_s"
      ]
    },
    {
      "cell_type": "code",
      "execution_count": null,
      "metadata": {
        "id": "NeOD3LQ95RgX"
      },
      "outputs": [],
      "source": [
        "#Choosing the input variables: Culmen Lenght, Culmen depth and flipper length\n",
        "X_tensor = torch.tensor(data_s[['culmen_length_mm', 'culmen_depth_mm', 'flipper_length_mm']].values.astype(np.float32))\n",
        "#Choosing the output variable as body mass in grams\n",
        "y_tensor = torch.tensor(data_s[['body_mass_g']].values.astype(np.float32))"
      ]
    },
    {
      "cell_type": "markdown",
      "metadata": {
        "id": "ynh-KbJ-FUV1"
      },
      "source": [
        "Neural Network 1\n",
        "\n",
        "\n",
        "---\n",
        "\n",
        "\n",
        "epochs 100\n",
        "\n",
        "\n",
        "---\n",
        "\n",
        "\n",
        "lr 0.01\n",
        "\n",
        "\n",
        "---\n",
        "\n",
        "\n",
        "2 hidden layers\n",
        "\n",
        "\n",
        "---\n",
        "\n",
        "\n",
        "3 input variables"
      ]
    },
    {
      "cell_type": "code",
      "execution_count": null,
      "metadata": {
        "colab": {
          "base_uri": "https://localhost:8080/",
          "height": 275,
          "referenced_widgets": [
            "f75b62c3de674de49fa18e5172481ab9",
            "4d57d8db70d644128970df6c47c3dd65",
            "59dba6d8bbd44bc1a0083077f7853166",
            "2c6b73ac40e44f008dd58a9d38a341cf",
            "6ca1713ab9bc44cea74ed7762308dcf8",
            "b6a31a5ce52042da92e054f8c507c52a",
            "4985c4910fbe4671ba841cd39de1c815",
            "deaa9a0f8bc04debb64c6ad52081f800",
            "0c7a8cb075bd44859aa955c0afc14554",
            "fc174bbc754a4ad89d29bc32b2a102a1",
            "7feec8bd5b3f4f2c9e37964d00c86fce",
            "e1945d0160a04aba87887f3e2421b7d7"
          ]
        },
        "id": "Z9IjVxGs5EDD",
        "outputId": "ef2cb6a8-8a09-4add-a593-645ea3d37035"
      },
      "outputs": [
        {
          "name": "stderr",
          "output_type": "stream",
          "text": [
            "C:\\Users\\mikec\\AppData\\Local\\Temp\\ipykernel_28240\\2519674558.py:19: TqdmDeprecationWarning: This function will be removed in tqdm==5.0.0\n",
            "Please use `tqdm.notebook.tqdm` instead of `tqdm.tqdm_notebook`\n",
            "  for i in tqdm_notebook(range(epochs), total=epochs, unit=\"epoch\"):\n"
          ]
        },
        {
          "data": {
            "application/vnd.jupyter.widget-view+json": {
              "model_id": "e1945d0160a04aba87887f3e2421b7d7",
              "version_major": 2,
              "version_minor": 0
            },
            "text/plain": [
              "  0%|          | 0/100 [00:00<?, ?epoch/s]"
            ]
          },
          "metadata": {},
          "output_type": "display_data"
        },
        {
          "name": "stdout",
          "output_type": "stream",
          "text": [
            "Loss: 0.019362889230251312\n",
            "Loss: 0.010250456631183624\n",
            "Loss: 0.010133560746908188\n",
            "Loss: 0.010253475047647953\n",
            "Loss: 0.010104568675160408\n",
            "Loss: 0.010096600279211998\n",
            "Loss: 0.010062403045594692\n",
            "Loss: 0.0100472467020154\n",
            "Loss: 0.010051555000245571\n",
            "Loss: 0.01004465389996767\n"
          ]
        }
      ],
      "source": [
        "# Initializing Hyperparameters\n",
        "epochs = 100\n",
        "learning_rate = 0.01\n",
        "loss_set = {}\n",
        "\n",
        "# 1. Creating a FeedForwardNetwork\n",
        "model_net4 = torch.nn.Sequential(\n",
        "                         torch.nn.Linear(3,6),\n",
        "                         torch.nn.ReLU(),\n",
        "                         torch.nn.Linear(6,5),\n",
        "                         torch.nn.ReLU(),\n",
        "                         torch.nn.Linear(5,1),\n",
        "                         torch.nn.Identity()\n",
        "                         );\n",
        "loss_mse = torch.nn.MSELoss()\n",
        "optimizer = torch.optim.RMSprop(model_net4.parameters(), lr=learning_rate)\n",
        "\n",
        "# Loop over the number of epochs\n",
        "for i in tqdm_notebook(range(epochs), total=epochs, unit=\"epoch\"):\n",
        "      lost_set_epoch = {}\n",
        "      j = 0\n",
        "      for x, y_t in zip(X_tensor, y_tensor):\n",
        "          output = model_net4.forward(x.float())\n",
        "          # 2. FeedForward Evaluation\n",
        "          loss = loss_mse(output, y_t.float())\n",
        "          optimizer.zero_grad();\n",
        "\n",
        "          # 3. Backward / Gradient Calculation\n",
        "          loss.backward()\n",
        "          # 4. Back Propagation\n",
        "          optimizer.step()\n",
        "          # Store the loss for each sample of data\n",
        "          lost_set_epoch[j] = loss\n",
        "          j = j + 1\n",
        "      \n",
        "      # Store the loss for each epoch\n",
        "      loss_set[i] = torch.mean(torch.stack(list(lost_set_epoch.values()))).detach().numpy()\n",
        "\n",
        "      # Display the loss after every 10 epochs\n",
        "      if (i % 10)==0:\n",
        "         print (f\"Loss: {loss_set[i]}\")\n"
      ]
    },
    {
      "cell_type": "code",
      "execution_count": null,
      "metadata": {
        "colab": {
          "base_uri": "https://localhost:8080/",
          "height": 283
        },
        "id": "_A988befCWmy",
        "outputId": "6fc6a0b1-1d76-4f86-acd9-f027c9869cff"
      },
      "outputs": [
        {
          "data": {
            "image/png": "[encoded data removed]",
            "text/plain": [
              "<Figure size 640x480 with 1 Axes>"
            ]
          },
          "metadata": {},
          "output_type": "display_data"
        }
      ],
      "source": [
        "plt.plot(np.array(list(loss_set.values())).astype(float))\n",
        "plt.xlabel('Epochs')\n",
        "plt.ylabel('Mean Squared Error')\n",
        "plt.show()"
      ]
    },
    {
      "cell_type": "markdown",
      "metadata": {
        "id": "NPOCid5zFnDS"
      },
      "source": [
        "Neural Network 2\n",
        "\n",
        "---\n",
        "\n",
        "\n",
        "epochs 100\n",
        "\n",
        "\n",
        "---\n",
        "\n",
        "\n",
        "lr 0.01\n",
        "\n",
        "\n",
        "---\n",
        "\n",
        "\n",
        "2 hidden layers with lesser neurons\n",
        "\n",
        "\n",
        "---\n",
        "\n",
        "\n",
        "3 input variables\n",
        "\n",
        "---\n",
        "\n",
        "Sigmoid instead of Identity"
      ]
    },
    {
      "cell_type": "code",
      "execution_count": null,
      "metadata": {
        "colab": {
          "base_uri": "https://localhost:8080/",
          "height": 257,
          "referenced_widgets": [
            "564f740ba477451087bee58b00e9785e",
            "4e86e1fff2dd406d9033985a3d8a1ba6",
            "daa86e67d474429381eabf460099f026",
            "0161020c6b2242b294aa8b2dbdd391fc",
            "9f555e5d4dc34992997f442bb2c2a90c",
            "61003ceb41394c4c8b5564b94e25f9e6",
            "48f53d32832a459f9f37d68f5e7269bc",
            "1fa22c8f1feb452e8c1fe402c34b5f21",
            "8466460f5b444eaaafd8b76179048644",
            "0cf5f42143c14832a3c1861033e73256",
            "b7a64fcfd3a64d2391bc3cb7ee3f9c07",
            "675413e32e5042dbbd171f537aa0355f"
          ]
        },
        "id": "3kR4MQugCsys",
        "outputId": "b5f8dad3-a158-461d-d46d-c8f750ee2a23"
      },
      "outputs": [
        {
          "name": "stderr",
          "output_type": "stream",
          "text": [
            "C:\\Users\\mikec\\AppData\\Local\\Temp\\ipykernel_28240\\2858472658.py:19: TqdmDeprecationWarning: This function will be removed in tqdm==5.0.0\n",
            "Please use `tqdm.notebook.tqdm` instead of `tqdm.tqdm_notebook`\n",
            "  for i in tqdm_notebook(range(epochs), total=epochs, unit=\"epoch\"):\n"
          ]
        },
        {
          "data": {
            "application/vnd.jupyter.widget-view+json": {
              "model_id": "675413e32e5042dbbd171f537aa0355f",
              "version_major": 2,
              "version_minor": 0
            },
            "text/plain": [
              "  0%|          | 0/100 [00:00<?, ?epoch/s]"
            ]
          },
          "metadata": {},
          "output_type": "display_data"
        },
        {
          "name": "stdout",
          "output_type": "stream",
          "text": [
            "Loss: 0.017227115109562874\n",
            "Loss: 0.009758018888533115\n",
            "Loss: 0.009389026090502739\n",
            "Loss: 0.009238574653863907\n",
            "Loss: 0.009145181626081467\n",
            "Loss: 0.009031933732330799\n",
            "Loss: 0.009016929194331169\n",
            "Loss: 0.009002313949167728\n",
            "Loss: 0.008956820704042912\n",
            "Loss: 0.008968205191195011\n"
          ]
        }
      ],
      "source": [
        "# Initializing Hyperparameters\n",
        "epochs = 100\n",
        "learning_rate = 0.01\n",
        "loss_set = {}\n",
        "\n",
        "# 1. Creating a FeedForwardNetwork\n",
        "model_net4 = torch.nn.Sequential(\n",
        "                         torch.nn.Linear(3,6),\n",
        "                         torch.nn.ReLU(),\n",
        "                         torch.nn.Linear(6,5),\n",
        "                         torch.nn.ReLU(),\n",
        "                         torch.nn.Linear(5,1),\n",
        "                         torch.nn.Sigmoid()\n",
        "                         );\n",
        "loss_mse = torch.nn.MSELoss()\n",
        "optimizer = torch.optim.RMSprop(model_net4.parameters(), lr=learning_rate)\n",
        "\n",
        "# Loop over the number of epochs\n",
        "for i in tqdm_notebook(range(epochs), total=epochs, unit=\"epoch\"):\n",
        "      lost_set_epoch = {}\n",
        "      j = 0\n",
        "      for x, y_t in zip(X_tensor, y_tensor):\n",
        "          output = model_net4.forward(x.float())\n",
        "          # 2. FeedForward Evaluation\n",
        "          loss = loss_mse(output, y_t.float())\n",
        "          optimizer.zero_grad();\n",
        "\n",
        "          # 3. Backward / Gradient Calculation\n",
        "          loss.backward()\n",
        "          # 4. Back Propagation\n",
        "          optimizer.step()\n",
        "          # Store the loss for each sample of data\n",
        "          lost_set_epoch[j] = loss\n",
        "          j = j + 1\n",
        "      \n",
        "      # Store the loss for each epoch\n",
        "      loss_set[i] = torch.mean(torch.stack(list(lost_set_epoch.values()))).detach().numpy()\n",
        "\n",
        "      # Display the loss after every 10 epochs\n",
        "      if (i % 10)==0:\n",
        "         print (f\"Loss: {loss_set[i]}\")\n"
      ]
    },
    {
      "cell_type": "code",
      "execution_count": null,
      "metadata": {
        "id": "7dnBza2GDMu9",
        "outputId": "78ed1fce-ab53-444c-dfcb-f553a7da96e3"
      },
      "outputs": [
        {
          "data": {
            "image/png": "[encoded data removed]",
            "text/plain": [
              "<Figure size 640x480 with 1 Axes>"
            ]
          },
          "metadata": {},
          "output_type": "display_data"
        }
      ],
      "source": [
        "plt.plot(np.array(list(loss_set.values())).astype(float))\n",
        "plt.xlabel('Epochs')\n",
        "plt.ylabel('MSE Loss')\n",
        "plt.show()"
      ]
    },
    {
      "cell_type": "markdown",
      "metadata": {
        "id": "_UpKscTPGehv"
      },
      "source": [
        "Neural Network 3\n",
        "\n",
        "---\n",
        "\n",
        "\n",
        "epochs 100\n",
        "\n",
        "\n",
        "---\n",
        "\n",
        "\n",
        "lr 0.01\n",
        "\n",
        "\n",
        "---\n",
        "\n",
        "\n",
        "2 hidden layers with lesser neurons\n",
        "\n",
        "\n",
        "---\n",
        "\n",
        "\n",
        "3 input variables\n",
        "\n",
        "\n",
        "---\n",
        "\n",
        "L1 loss"
      ]
    },
    {
      "cell_type": "code",
      "execution_count": null,
      "metadata": {
        "id": "Sat7rZnIDYl7",
        "outputId": "b49fc3d6-c3c2-4049-f502-cb49b132b488",
        "colab": {
          "referenced_widgets": [
            "104bb290d4f549659aa14acffdda622f"
          ]
        }
      },
      "outputs": [
        {
          "name": "stderr",
          "output_type": "stream",
          "text": [
            "C:\\Users\\mikec\\AppData\\Local\\Temp\\ipykernel_28240\\3929676271.py:19: TqdmDeprecationWarning: This function will be removed in tqdm==5.0.0\n",
            "Please use `tqdm.notebook.tqdm` instead of `tqdm.tqdm_notebook`\n",
            "  for i in tqdm_notebook(range(epochs), total=epochs, unit=\"epoch\"):\n"
          ]
        },
        {
          "data": {
            "application/vnd.jupyter.widget-view+json": {
              "model_id": "104bb290d4f549659aa14acffdda622f",
              "version_major": 2,
              "version_minor": 0
            },
            "text/plain": [
              "  0%|          | 0/100 [00:00<?, ?epoch/s]"
            ]
          },
          "metadata": {},
          "output_type": "display_data"
        },
        {
          "name": "stdout",
          "output_type": "stream",
          "text": [
            "Loss: 0.11089208722114563\n",
            "Loss: 0.08389198035001755\n",
            "Loss: 0.0806160643696785\n",
            "Loss: 0.08023862540721893\n",
            "Loss: 0.08012617379426956\n",
            "Loss: 0.08041206002235413\n",
            "Loss: 0.07953687757253647\n",
            "Loss: 0.07917364686727524\n",
            "Loss: 0.07997148483991623\n",
            "Loss: 0.08100759238004684\n"
          ]
        }
      ],
      "source": [
        "\n",
        "# Initializing Hyperparameters\n",
        "epochs = 100\n",
        "learning_rate = 0.01\n",
        "loss_set = {}\n",
        "\n",
        "# 1. Creating a FeedForwardNetwork\n",
        "model_net4 = torch.nn.Sequential(\n",
        "                         torch.nn.Linear(3,6),\n",
        "                         torch.nn.ReLU(),\n",
        "                         torch.nn.Linear(6,5),\n",
        "                         torch.nn.ReLU(),\n",
        "                         torch.nn.Linear(5,1),\n",
        "                         torch.nn.Identity()\n",
        "                         );\n",
        "loss_mse = torch.nn.L1Loss()\n",
        "optimizer = torch.optim.RMSprop(model_net4.parameters(), lr=learning_rate)\n",
        "\n",
        "# Loop over the number of epochs\n",
        "for i in tqdm_notebook(range(epochs), total=epochs, unit=\"epoch\"):\n",
        "      lost_set_epoch = {}\n",
        "      j = 0\n",
        "      for x, y_t in zip(X_tensor, y_tensor):\n",
        "          output = model_net4.forward(x.float())\n",
        "          # 2. FeedForward Evaluation\n",
        "          loss = loss_mse(output, y_t.float())\n",
        "          optimizer.zero_grad();\n",
        "\n",
        "          # 3. Backward / Gradient Calculation\n",
        "          loss.backward()\n",
        "          # 4. Back Propagation\n",
        "          optimizer.step()\n",
        "          # Store the loss for each sample of data\n",
        "          lost_set_epoch[j] = loss\n",
        "          j = j + 1\n",
        "      \n",
        "      # Store the loss for each epoch\n",
        "      loss_set[i] = torch.mean(torch.stack(list(lost_set_epoch.values()))).detach().numpy()\n",
        "\n",
        "      # Display the loss after every 10 epochs\n",
        "      if (i % 10)==0:\n",
        "         print (f\"Loss: {loss_set[i]}\")\n"
      ]
    },
    {
      "cell_type": "code",
      "execution_count": null,
      "metadata": {
        "id": "E6I46fa_E1M3",
        "outputId": "966a7f91-a40f-422d-af20-85f4b63d1c6d"
      },
      "outputs": [
        {
          "data": {
            "image/png": "[encoded data removed]",
            "text/plain": [
              "<Figure size 640x480 with 1 Axes>"
            ]
          },
          "metadata": {},
          "output_type": "display_data"
        }
      ],
      "source": [
        "plt.plot(np.array(list(loss_set.values())).astype(float))\n",
        "plt.xlabel('Epochs')\n",
        "plt.ylabel('L1 Loss')\n",
        "plt.show()"
      ]
    },
    {
      "cell_type": "markdown",
      "metadata": {
        "id": "0m6-NN48GoEe"
      },
      "source": [
        "Neural Network 4\n",
        "\n",
        "---\n",
        "\n",
        "\n",
        "epochs 100\n",
        "\n",
        "\n",
        "---\n",
        "\n",
        "\n",
        "lr 0.01\n",
        "\n",
        "\n",
        "---\n",
        "\n",
        "\n",
        "2 hidden layers\n",
        "\n",
        "\n",
        "---\n",
        "\n",
        "\n",
        "3 input variables\n",
        "\n",
        "\n",
        "---\n",
        "\n",
        "L1 loss\n",
        "\n",
        "---\n",
        "Sigmoid instead og Identity\n"
      ]
    },
    {
      "cell_type": "code",
      "execution_count": null,
      "metadata": {
        "id": "qgl69lqSFKqK",
        "outputId": "723c7fe7-a1e7-4bc1-f3b4-70b4c1327cfb",
        "colab": {
          "referenced_widgets": [
            "979337231ced451894365f04f35e77c9"
          ]
        }
      },
      "outputs": [
        {
          "name": "stderr",
          "output_type": "stream",
          "text": [
            "C:\\Users\\mikec\\AppData\\Local\\Temp\\ipykernel_28240\\861055069.py:19: TqdmDeprecationWarning: This function will be removed in tqdm==5.0.0\n",
            "Please use `tqdm.notebook.tqdm` instead of `tqdm.tqdm_notebook`\n",
            "  for i in tqdm_notebook(range(epochs), total=epochs, unit=\"epoch\"):\n"
          ]
        },
        {
          "data": {
            "application/vnd.jupyter.widget-view+json": {
              "model_id": "979337231ced451894365f04f35e77c9",
              "version_major": 2,
              "version_minor": 0
            },
            "text/plain": [
              "  0%|          | 0/100 [00:00<?, ?epoch/s]"
            ]
          },
          "metadata": {},
          "output_type": "display_data"
        },
        {
          "name": "stdout",
          "output_type": "stream",
          "text": [
            "Loss: 0.11533298343420029\n",
            "Loss: 0.07918699085712433\n",
            "Loss: 0.07487919181585312\n",
            "Loss: 0.07436898350715637\n",
            "Loss: 0.07340933382511139\n",
            "Loss: 0.07465796917676926\n",
            "Loss: 0.07361643761396408\n",
            "Loss: 0.07369274646043777\n",
            "Loss: 0.07398796826601028\n",
            "Loss: 0.07419703900814056\n"
          ]
        }
      ],
      "source": [
        "# Initializing Hyperparameters\n",
        "epochs = 100\n",
        "learning_rate = 0.01\n",
        "loss_set = {}\n",
        "\n",
        "# 1. Creating a FeedForwardNetwork\n",
        "model_net4 = torch.nn.Sequential(\n",
        "                         torch.nn.Linear(3,6),\n",
        "                         torch.nn.ReLU(),\n",
        "                         torch.nn.Linear(6,5),\n",
        "                         torch.nn.ReLU(),\n",
        "                         torch.nn.Linear(5,1),\n",
        "                         torch.nn.Sigmoid()\n",
        "                         );\n",
        "loss_mse = torch.nn.L1Loss()\n",
        "optimizer = torch.optim.RMSprop(model_net4.parameters(), lr=learning_rate)\n",
        "\n",
        "# Loop over the number of epochs\n",
        "for i in tqdm_notebook(range(epochs), total=epochs, unit=\"epoch\"):\n",
        "      lost_set_epoch = {}\n",
        "      j = 0\n",
        "      for x, y_t in zip(X_tensor, y_tensor):\n",
        "          output = model_net4.forward(x.float())\n",
        "          # 2. FeedForward Evaluation\n",
        "          loss = loss_mse(output, y_t.float())\n",
        "          optimizer.zero_grad();\n",
        "\n",
        "          # 3. Backward / Gradient Calculation\n",
        "          loss.backward()\n",
        "          # 4. Back Propagation\n",
        "          optimizer.step()\n",
        "          # Store the loss for each sample of data\n",
        "          lost_set_epoch[j] = loss\n",
        "          j = j + 1\n",
        "      \n",
        "      # Store the loss for each epoch\n",
        "      loss_set[i] = torch.mean(torch.stack(list(lost_set_epoch.values()))).detach().numpy()\n",
        "\n",
        "      # Display the loss after every 10 epochs\n",
        "      if (i % 10)==0:\n",
        "         print (f\"Loss: {loss_set[i]}\")\n"
      ]
    },
    {
      "cell_type": "code",
      "execution_count": null,
      "metadata": {
        "id": "MJ7xY6YEG5So",
        "outputId": "875cd0f5-153f-4acb-9f51-8e9d8ddca787"
      },
      "outputs": [
        {
          "data": {
            "image/png": "[encoded data removed]",
            "text/plain": [
              "<Figure size 640x480 with 1 Axes>"
            ]
          },
          "metadata": {},
          "output_type": "display_data"
        }
      ],
      "source": [
        "plt.plot(np.array(list(loss_set.values())).astype(float))\n",
        "plt.xlabel('Epochs')\n",
        "plt.ylabel('L1 Loss')\n",
        "plt.show()"
      ]
    },
    {
      "cell_type": "markdown",
      "metadata": {
        "id": "OgedC8snJL82"
      },
      "source": [
        "Neural Network 5\n",
        "\n",
        "---\n",
        "\n",
        "\n",
        "epochs 100\n",
        "\n",
        "\n",
        "---\n",
        "\n",
        "\n",
        "lr 0.005\n",
        "\n",
        "\n",
        "---\n",
        "\n",
        "\n",
        "3 hidden layers\n",
        "\n",
        "\n",
        "---\n",
        "\n",
        "\n",
        "3 input variables\n",
        "\n",
        "\n",
        "---\n",
        "\n",
        "Sigmoid"
      ]
    },
    {
      "cell_type": "code",
      "execution_count": null,
      "metadata": {
        "id": "FLRIY8afHaNS",
        "outputId": "d214493a-3e4b-47fe-d6e1-18b885ec95bf",
        "colab": {
          "referenced_widgets": [
            "9d944d76312d453fa695eb01a4b3252e"
          ]
        }
      },
      "outputs": [
        {
          "name": "stderr",
          "output_type": "stream",
          "text": [
            "C:\\Users\\mikec\\AppData\\Local\\Temp\\ipykernel_28240\\1522072318.py:21: TqdmDeprecationWarning: This function will be removed in tqdm==5.0.0\n",
            "Please use `tqdm.notebook.tqdm` instead of `tqdm.tqdm_notebook`\n",
            "  for i in tqdm_notebook(range(epochs), total=epochs, unit=\"epoch\"):\n"
          ]
        },
        {
          "data": {
            "application/vnd.jupyter.widget-view+json": {
              "model_id": "9d944d76312d453fa695eb01a4b3252e",
              "version_major": 2,
              "version_minor": 0
            },
            "text/plain": [
              "  0%|          | 0/100 [00:00<?, ?epoch/s]"
            ]
          },
          "metadata": {},
          "output_type": "display_data"
        },
        {
          "name": "stdout",
          "output_type": "stream",
          "text": [
            "Loss: 0.027143530547618866\n",
            "Loss: 0.009348032996058464\n",
            "Loss: 0.009364004246890545\n",
            "Loss: 0.009317551739513874\n",
            "Loss: 0.009313621558248997\n",
            "Loss: 0.00928287860006094\n",
            "Loss: 0.009306554682552814\n",
            "Loss: 0.009319333359599113\n",
            "Loss: 0.009263460524380207\n",
            "Loss: 0.009093953296542168\n"
          ]
        }
      ],
      "source": [
        "# Initializing Hyperparameters\n",
        "epochs = 100\n",
        "learning_rate = 0.005\n",
        "loss_set = {}\n",
        "\n",
        "# 1. Creating a FeedForwardNetwork\n",
        "model_net4 = torch.nn.Sequential(\n",
        "                         torch.nn.Linear(3,6),\n",
        "                         torch.nn.ReLU(),\n",
        "                         torch.nn.Linear(6,6),\n",
        "                         torch.nn.ReLU(),\n",
        "                         torch.nn.Linear(6,5),\n",
        "                         torch.nn.ReLU(),\n",
        "                         torch.nn.Linear(5,1),\n",
        "                         torch.nn.Sigmoid()\n",
        "                         );\n",
        "loss_MSE = torch.nn.MSELoss()\n",
        "optimizer = torch.optim.RMSprop(model_net4.parameters(), lr=learning_rate)\n",
        "\n",
        "# Loop over the number of epochs\n",
        "for i in tqdm_notebook(range(epochs), total=epochs, unit=\"epoch\"):\n",
        "      lost_set_epoch = {}\n",
        "      j = 0\n",
        "      for x, y_t in zip(X_tensor, y_tensor):\n",
        "          output = model_net4.forward(x.float())\n",
        "          # 2. FeedForward Evaluation\n",
        "          loss = loss_MSE(output, y_t.float())\n",
        "          optimizer.zero_grad();\n",
        "\n",
        "          # 3. Backward / Gradient Calculation\n",
        "          loss.backward()\n",
        "          # 4. Back Propagation\n",
        "          optimizer.step()\n",
        "          # Store the loss for each sample of data\n",
        "          lost_set_epoch[j] = loss\n",
        "          j = j + 1\n",
        "      \n",
        "      # Store the loss for each epoch\n",
        "      loss_set[i] = torch.mean(torch.stack(list(lost_set_epoch.values()))).detach().numpy()\n",
        "\n",
        "      # Display the loss after every 10 epochs\n",
        "      if (i % 10)==0:\n",
        "         print (f\"Loss: {loss_set[i]}\")"
      ]
    },
    {
      "cell_type": "code",
      "execution_count": null,
      "metadata": {
        "id": "kNjabkhJJVE0",
        "outputId": "6ef742b0-c0bd-40bd-cf8b-57dfa7733425"
      },
      "outputs": [
        {
          "data": {
            "image/png": "[encoded data removed]",
            "text/plain": [
              "<Figure size 640x480 with 1 Axes>"
            ]
          },
          "metadata": {},
          "output_type": "display_data"
        }
      ],
      "source": [
        "plt.plot(np.array(list(loss_set.values())).astype(float))\n",
        "plt.xlabel('Epochs')\n",
        "plt.ylabel('MSE Loss')\n",
        "plt.show()"
      ]
    },
    {
      "cell_type": "markdown",
      "metadata": {
        "id": "6FreZ3D7qVzs"
      },
      "source": [
        "#From changing the hyper-parameters, learning rate and hidden layers, it seems like Neural Network 2 had the best performance, as the loss seemed to steadily decent and not give a confusing result. "
      ]
    },
    {
      "cell_type": "code",
      "execution_count": null,
      "metadata": {
        "id": "PdLC1UEcqVzs"
      },
      "outputs": [],
      "source": []
    }
  ],
  "metadata": {
    "colab": {
      "provenance": [],
      "include_colab_link": true
    },
    "kernelspec": {
      "display_name": "base",
      "language": "python",
      "name": "python3"
    },
    "language_info": {
      "codemirror_mode": {
        "name": "ipython",
        "version": 3
      },
      "file_extension": ".py",
      "mimetype": "text/x-python",
      "name": "python",
      "nbconvert_exporter": "python",
      "pygments_lexer": "ipython3",
      "version": "3.9.15"
    },
    "vscode": {
      "interpreter": {
        "hash": "6873daacae54e252c6e34878e734be95eb38b84fa3a9f361b6a2b2ba332e259a"
      }
    },
    "widgets": {
      "application/vnd.jupyter.widget-state+json": {
        "0161020c6b2242b294aa8b2dbdd391fc": {
          "model_module": "@jupyter-widgets/controls",
          "model_module_version": "1.5.0",
          "model_name": "HTMLModel",
          "state": {
            "_dom_classes": [],
            "_model_module": "@jupyter-widgets/controls",
            "_model_module_version": "1.5.0",
            "_model_name": "HTMLModel",
            "_view_count": null,
            "_view_module": "@jupyter-widgets/controls",
            "_view_module_version": "1.5.0",
            "_view_name": "HTMLView",
            "description": "",
            "description_tooltip": null,
            "layout": "IPY_MODEL_0cf5f42143c14832a3c1861033e73256",
            "placeholder": "​",
            "style": "IPY_MODEL_b7a64fcfd3a64d2391bc3cb7ee3f9c07",
            "value": " 89/100 [00:38&lt;00:04,  2.49epoch/s]"
          }
        },
        "0c7a8cb075bd44859aa955c0afc14554": {
          "model_module": "@jupyter-widgets/controls",
          "model_module_version": "1.5.0",
          "model_name": "ProgressStyleModel",
          "state": {
            "_model_module": "@jupyter-widgets/controls",
            "_model_module_version": "1.5.0",
            "_model_name": "ProgressStyleModel",
            "_view_count": null,
            "_view_module": "@jupyter-widgets/base",
            "_view_module_version": "1.2.0",
            "_view_name": "StyleView",
            "bar_color": null,
            "description_width": ""
          }
        },
        "0cf5f42143c14832a3c1861033e73256": {
          "model_module": "@jupyter-widgets/base",
          "model_module_version": "1.2.0",
          "model_name": "LayoutModel",
          "state": {
            "_model_module": "@jupyter-widgets/base",
            "_model_module_version": "1.2.0",
            "_model_name": "LayoutModel",
            "_view_count": null,
            "_view_module": "@jupyter-widgets/base",
            "_view_module_version": "1.2.0",
            "_view_name": "LayoutView",
            "align_content": null,
            "align_items": null,
            "align_self": null,
            "border": null,
            "bottom": null,
            "display": null,
            "flex": null,
            "flex_flow": null,
            "grid_area": null,
            "grid_auto_columns": null,
            "grid_auto_flow": null,
            "grid_auto_rows": null,
            "grid_column": null,
            "grid_gap": null,
            "grid_row": null,
            "grid_template_areas": null,
            "grid_template_columns": null,
            "grid_template_rows": null,
            "height": null,
            "justify_content": null,
            "justify_items": null,
            "left": null,
            "margin": null,
            "max_height": null,
            "max_width": null,
            "min_height": null,
            "min_width": null,
            "object_fit": null,
            "object_position": null,
            "order": null,
            "overflow": null,
            "overflow_x": null,
            "overflow_y": null,
            "padding": null,
            "right": null,
            "top": null,
            "visibility": null,
            "width": null
          }
        },
        "1fa22c8f1feb452e8c1fe402c34b5f21": {
          "model_module": "@jupyter-widgets/base",
          "model_module_version": "1.2.0",
          "model_name": "LayoutModel",
          "state": {
            "_model_module": "@jupyter-widgets/base",
            "_model_module_version": "1.2.0",
            "_model_name": "LayoutModel",
            "_view_count": null,
            "_view_module": "@jupyter-widgets/base",
            "_view_module_version": "1.2.0",
            "_view_name": "LayoutView",
            "align_content": null,
            "align_items": null,
            "align_self": null,
            "border": null,
            "bottom": null,
            "display": null,
            "flex": null,
            "flex_flow": null,
            "grid_area": null,
            "grid_auto_columns": null,
            "grid_auto_flow": null,
            "grid_auto_rows": null,
            "grid_column": null,
            "grid_gap": null,
            "grid_row": null,
            "grid_template_areas": null,
            "grid_template_columns": null,
            "grid_template_rows": null,
            "height": null,
            "justify_content": null,
            "justify_items": null,
            "left": null,
            "margin": null,
            "max_height": null,
            "max_width": null,
            "min_height": null,
            "min_width": null,
            "object_fit": null,
            "object_position": null,
            "order": null,
            "overflow": null,
            "overflow_x": null,
            "overflow_y": null,
            "padding": null,
            "right": null,
            "top": null,
            "visibility": null,
            "width": null
          }
        },
        "2c6b73ac40e44f008dd58a9d38a341cf": {
          "model_module": "@jupyter-widgets/controls",
          "model_module_version": "1.5.0",
          "model_name": "HTMLModel",
          "state": {
            "_dom_classes": [],
            "_model_module": "@jupyter-widgets/controls",
            "_model_module_version": "1.5.0",
            "_model_name": "HTMLModel",
            "_view_count": null,
            "_view_module": "@jupyter-widgets/controls",
            "_view_module_version": "1.5.0",
            "_view_name": "HTMLView",
            "description": "",
            "description_tooltip": null,
            "layout": "IPY_MODEL_fc174bbc754a4ad89d29bc32b2a102a1",
            "placeholder": "​",
            "style": "IPY_MODEL_7feec8bd5b3f4f2c9e37964d00c86fce",
            "value": " 100/100 [00:41&lt;00:00,  2.51epoch/s]"
          }
        },
        "48f53d32832a459f9f37d68f5e7269bc": {
          "model_module": "@jupyter-widgets/controls",
          "model_module_version": "1.5.0",
          "model_name": "DescriptionStyleModel",
          "state": {
            "_model_module": "@jupyter-widgets/controls",
            "_model_module_version": "1.5.0",
            "_model_name": "DescriptionStyleModel",
            "_view_count": null,
            "_view_module": "@jupyter-widgets/base",
            "_view_module_version": "1.2.0",
            "_view_name": "StyleView",
            "description_width": ""
          }
        },
        "4985c4910fbe4671ba841cd39de1c815": {
          "model_module": "@jupyter-widgets/controls",
          "model_module_version": "1.5.0",
          "model_name": "DescriptionStyleModel",
          "state": {
            "_model_module": "@jupyter-widgets/controls",
            "_model_module_version": "1.5.0",
            "_model_name": "DescriptionStyleModel",
            "_view_count": null,
            "_view_module": "@jupyter-widgets/base",
            "_view_module_version": "1.2.0",
            "_view_name": "StyleView",
            "description_width": ""
          }
        },
        "4d57d8db70d644128970df6c47c3dd65": {
          "model_module": "@jupyter-widgets/controls",
          "model_module_version": "1.5.0",
          "model_name": "HTMLModel",
          "state": {
            "_dom_classes": [],
            "_model_module": "@jupyter-widgets/controls",
            "_model_module_version": "1.5.0",
            "_model_name": "HTMLModel",
            "_view_count": null,
            "_view_module": "@jupyter-widgets/controls",
            "_view_module_version": "1.5.0",
            "_view_name": "HTMLView",
            "description": "",
            "description_tooltip": null,
            "layout": "IPY_MODEL_b6a31a5ce52042da92e054f8c507c52a",
            "placeholder": "​",
            "style": "IPY_MODEL_4985c4910fbe4671ba841cd39de1c815",
            "value": "100%"
          }
        },
        "4e86e1fff2dd406d9033985a3d8a1ba6": {
          "model_module": "@jupyter-widgets/controls",
          "model_module_version": "1.5.0",
          "model_name": "HTMLModel",
          "state": {
            "_dom_classes": [],
            "_model_module": "@jupyter-widgets/controls",
            "_model_module_version": "1.5.0",
            "_model_name": "HTMLModel",
            "_view_count": null,
            "_view_module": "@jupyter-widgets/controls",
            "_view_module_version": "1.5.0",
            "_view_name": "HTMLView",
            "description": "",
            "description_tooltip": null,
            "layout": "IPY_MODEL_61003ceb41394c4c8b5564b94e25f9e6",
            "placeholder": "​",
            "style": "IPY_MODEL_48f53d32832a459f9f37d68f5e7269bc",
            "value": " 89%"
          }
        },
        "564f740ba477451087bee58b00e9785e": {
          "model_module": "@jupyter-widgets/controls",
          "model_module_version": "1.5.0",
          "model_name": "HBoxModel",
          "state": {
            "_dom_classes": [],
            "_model_module": "@jupyter-widgets/controls",
            "_model_module_version": "1.5.0",
            "_model_name": "HBoxModel",
            "_view_count": null,
            "_view_module": "@jupyter-widgets/controls",
            "_view_module_version": "1.5.0",
            "_view_name": "HBoxView",
            "box_style": "",
            "children": [
              "IPY_MODEL_4e86e1fff2dd406d9033985a3d8a1ba6",
              "IPY_MODEL_daa86e67d474429381eabf460099f026",
              "IPY_MODEL_0161020c6b2242b294aa8b2dbdd391fc"
            ],
            "layout": "IPY_MODEL_9f555e5d4dc34992997f442bb2c2a90c"
          }
        },
        "59dba6d8bbd44bc1a0083077f7853166": {
          "model_module": "@jupyter-widgets/controls",
          "model_module_version": "1.5.0",
          "model_name": "FloatProgressModel",
          "state": {
            "_dom_classes": [],
            "_model_module": "@jupyter-widgets/controls",
            "_model_module_version": "1.5.0",
            "_model_name": "FloatProgressModel",
            "_view_count": null,
            "_view_module": "@jupyter-widgets/controls",
            "_view_module_version": "1.5.0",
            "_view_name": "ProgressView",
            "bar_style": "success",
            "description": "",
            "description_tooltip": null,
            "layout": "IPY_MODEL_deaa9a0f8bc04debb64c6ad52081f800",
            "max": 100,
            "min": 0,
            "orientation": "horizontal",
            "style": "IPY_MODEL_0c7a8cb075bd44859aa955c0afc14554",
            "value": 100
          }
        },
        "61003ceb41394c4c8b5564b94e25f9e6": {
          "model_module": "@jupyter-widgets/base",
          "model_module_version": "1.2.0",
          "model_name": "LayoutModel",
          "state": {
            "_model_module": "@jupyter-widgets/base",
            "_model_module_version": "1.2.0",
            "_model_name": "LayoutModel",
            "_view_count": null,
            "_view_module": "@jupyter-widgets/base",
            "_view_module_version": "1.2.0",
            "_view_name": "LayoutView",
            "align_content": null,
            "align_items": null,
            "align_self": null,
            "border": null,
            "bottom": null,
            "display": null,
            "flex": null,
            "flex_flow": null,
            "grid_area": null,
            "grid_auto_columns": null,
            "grid_auto_flow": null,
            "grid_auto_rows": null,
            "grid_column": null,
            "grid_gap": null,
            "grid_row": null,
            "grid_template_areas": null,
            "grid_template_columns": null,
            "grid_template_rows": null,
            "height": null,
            "justify_content": null,
            "justify_items": null,
            "left": null,
            "margin": null,
            "max_height": null,
            "max_width": null,
            "min_height": null,
            "min_width": null,
            "object_fit": null,
            "object_position": null,
            "order": null,
            "overflow": null,
            "overflow_x": null,
            "overflow_y": null,
            "padding": null,
            "right": null,
            "top": null,
            "visibility": null,
            "width": null
          }
        },
        "6ca1713ab9bc44cea74ed7762308dcf8": {
          "model_module": "@jupyter-widgets/base",
          "model_module_version": "1.2.0",
          "model_name": "LayoutModel",
          "state": {
            "_model_module": "@jupyter-widgets/base",
            "_model_module_version": "1.2.0",
            "_model_name": "LayoutModel",
            "_view_count": null,
            "_view_module": "@jupyter-widgets/base",
            "_view_module_version": "1.2.0",
            "_view_name": "LayoutView",
            "align_content": null,
            "align_items": null,
            "align_self": null,
            "border": null,
            "bottom": null,
            "display": null,
            "flex": null,
            "flex_flow": null,
            "grid_area": null,
            "grid_auto_columns": null,
            "grid_auto_flow": null,
            "grid_auto_rows": null,
            "grid_column": null,
            "grid_gap": null,
            "grid_row": null,
            "grid_template_areas": null,
            "grid_template_columns": null,
            "grid_template_rows": null,
            "height": null,
            "justify_content": null,
            "justify_items": null,
            "left": null,
            "margin": null,
            "max_height": null,
            "max_width": null,
            "min_height": null,
            "min_width": null,
            "object_fit": null,
            "object_position": null,
            "order": null,
            "overflow": null,
            "overflow_x": null,
            "overflow_y": null,
            "padding": null,
            "right": null,
            "top": null,
            "visibility": null,
            "width": null
          }
        },
        "7feec8bd5b3f4f2c9e37964d00c86fce": {
          "model_module": "@jupyter-widgets/controls",
          "model_module_version": "1.5.0",
          "model_name": "DescriptionStyleModel",
          "state": {
            "_model_module": "@jupyter-widgets/controls",
            "_model_module_version": "1.5.0",
            "_model_name": "DescriptionStyleModel",
            "_view_count": null,
            "_view_module": "@jupyter-widgets/base",
            "_view_module_version": "1.2.0",
            "_view_name": "StyleView",
            "description_width": ""
          }
        },
        "8466460f5b444eaaafd8b76179048644": {
          "model_module": "@jupyter-widgets/controls",
          "model_module_version": "1.5.0",
          "model_name": "ProgressStyleModel",
          "state": {
            "_model_module": "@jupyter-widgets/controls",
            "_model_module_version": "1.5.0",
            "_model_name": "ProgressStyleModel",
            "_view_count": null,
            "_view_module": "@jupyter-widgets/base",
            "_view_module_version": "1.2.0",
            "_view_name": "StyleView",
            "bar_color": null,
            "description_width": ""
          }
        },
        "9f555e5d4dc34992997f442bb2c2a90c": {
          "model_module": "@jupyter-widgets/base",
          "model_module_version": "1.2.0",
          "model_name": "LayoutModel",
          "state": {
            "_model_module": "@jupyter-widgets/base",
            "_model_module_version": "1.2.0",
            "_model_name": "LayoutModel",
            "_view_count": null,
            "_view_module": "@jupyter-widgets/base",
            "_view_module_version": "1.2.0",
            "_view_name": "LayoutView",
            "align_content": null,
            "align_items": null,
            "align_self": null,
            "border": null,
            "bottom": null,
            "display": null,
            "flex": null,
            "flex_flow": null,
            "grid_area": null,
            "grid_auto_columns": null,
            "grid_auto_flow": null,
            "grid_auto_rows": null,
            "grid_column": null,
            "grid_gap": null,
            "grid_row": null,
            "grid_template_areas": null,
            "grid_template_columns": null,
            "grid_template_rows": null,
            "height": null,
            "justify_content": null,
            "justify_items": null,
            "left": null,
            "margin": null,
            "max_height": null,
            "max_width": null,
            "min_height": null,
            "min_width": null,
            "object_fit": null,
            "object_position": null,
            "order": null,
            "overflow": null,
            "overflow_x": null,
            "overflow_y": null,
            "padding": null,
            "right": null,
            "top": null,
            "visibility": null,
            "width": null
          }
        },
        "b6a31a5ce52042da92e054f8c507c52a": {
          "model_module": "@jupyter-widgets/base",
          "model_module_version": "1.2.0",
          "model_name": "LayoutModel",
          "state": {
            "_model_module": "@jupyter-widgets/base",
            "_model_module_version": "1.2.0",
            "_model_name": "LayoutModel",
            "_view_count": null,
            "_view_module": "@jupyter-widgets/base",
            "_view_module_version": "1.2.0",
            "_view_name": "LayoutView",
            "align_content": null,
            "align_items": null,
            "align_self": null,
            "border": null,
            "bottom": null,
            "display": null,
            "flex": null,
            "flex_flow": null,
            "grid_area": null,
            "grid_auto_columns": null,
            "grid_auto_flow": null,
            "grid_auto_rows": null,
            "grid_column": null,
            "grid_gap": null,
            "grid_row": null,
            "grid_template_areas": null,
            "grid_template_columns": null,
            "grid_template_rows": null,
            "height": null,
            "justify_content": null,
            "justify_items": null,
            "left": null,
            "margin": null,
            "max_height": null,
            "max_width": null,
            "min_height": null,
            "min_width": null,
            "object_fit": null,
            "object_position": null,
            "order": null,
            "overflow": null,
            "overflow_x": null,
            "overflow_y": null,
            "padding": null,
            "right": null,
            "top": null,
            "visibility": null,
            "width": null
          }
        },
        "b7a64fcfd3a64d2391bc3cb7ee3f9c07": {
          "model_module": "@jupyter-widgets/controls",
          "model_module_version": "1.5.0",
          "model_name": "DescriptionStyleModel",
          "state": {
            "_model_module": "@jupyter-widgets/controls",
            "_model_module_version": "1.5.0",
            "_model_name": "DescriptionStyleModel",
            "_view_count": null,
            "_view_module": "@jupyter-widgets/base",
            "_view_module_version": "1.2.0",
            "_view_name": "StyleView",
            "description_width": ""
          }
        },
        "daa86e67d474429381eabf460099f026": {
          "model_module": "@jupyter-widgets/controls",
          "model_module_version": "1.5.0",
          "model_name": "FloatProgressModel",
          "state": {
            "_dom_classes": [],
            "_model_module": "@jupyter-widgets/controls",
            "_model_module_version": "1.5.0",
            "_model_name": "FloatProgressModel",
            "_view_count": null,
            "_view_module": "@jupyter-widgets/controls",
            "_view_module_version": "1.5.0",
            "_view_name": "ProgressView",
            "bar_style": "",
            "description": "",
            "description_tooltip": null,
            "layout": "IPY_MODEL_1fa22c8f1feb452e8c1fe402c34b5f21",
            "max": 100,
            "min": 0,
            "orientation": "horizontal",
            "style": "IPY_MODEL_8466460f5b444eaaafd8b76179048644",
            "value": 89
          }
        },
        "deaa9a0f8bc04debb64c6ad52081f800": {
          "model_module": "@jupyter-widgets/base",
          "model_module_version": "1.2.0",
          "model_name": "LayoutModel",
          "state": {
            "_model_module": "@jupyter-widgets/base",
            "_model_module_version": "1.2.0",
            "_model_name": "LayoutModel",
            "_view_count": null,
            "_view_module": "@jupyter-widgets/base",
            "_view_module_version": "1.2.0",
            "_view_name": "LayoutView",
            "align_content": null,
            "align_items": null,
            "align_self": null,
            "border": null,
            "bottom": null,
            "display": null,
            "flex": null,
            "flex_flow": null,
            "grid_area": null,
            "grid_auto_columns": null,
            "grid_auto_flow": null,
            "grid_auto_rows": null,
            "grid_column": null,
            "grid_gap": null,
            "grid_row": null,
            "grid_template_areas": null,
            "grid_template_columns": null,
            "grid_template_rows": null,
            "height": null,
            "justify_content": null,
            "justify_items": null,
            "left": null,
            "margin": null,
            "max_height": null,
            "max_width": null,
            "min_height": null,
            "min_width": null,
            "object_fit": null,
            "object_position": null,
            "order": null,
            "overflow": null,
            "overflow_x": null,
            "overflow_y": null,
            "padding": null,
            "right": null,
            "top": null,
            "visibility": null,
            "width": null
          }
        },
        "f75b62c3de674de49fa18e5172481ab9": {
          "model_module": "@jupyter-widgets/controls",
          "model_module_version": "1.5.0",
          "model_name": "HBoxModel",
          "state": {
            "_dom_classes": [],
            "_model_module": "@jupyter-widgets/controls",
            "_model_module_version": "1.5.0",
            "_model_name": "HBoxModel",
            "_view_count": null,
            "_view_module": "@jupyter-widgets/controls",
            "_view_module_version": "1.5.0",
            "_view_name": "HBoxView",
            "box_style": "",
            "children": [
              "IPY_MODEL_4d57d8db70d644128970df6c47c3dd65",
              "IPY_MODEL_59dba6d8bbd44bc1a0083077f7853166",
              "IPY_MODEL_2c6b73ac40e44f008dd58a9d38a341cf"
            ],
            "layout": "IPY_MODEL_6ca1713ab9bc44cea74ed7762308dcf8"
          }
        },
        "fc174bbc754a4ad89d29bc32b2a102a1": {
          "model_module": "@jupyter-widgets/base",
          "model_module_version": "1.2.0",
          "model_name": "LayoutModel",
          "state": {
            "_model_module": "@jupyter-widgets/base",
            "_model_module_version": "1.2.0",
            "_model_name": "LayoutModel",
            "_view_count": null,
            "_view_module": "@jupyter-widgets/base",
            "_view_module_version": "1.2.0",
            "_view_name": "LayoutView",
            "align_content": null,
            "align_items": null,
            "align_self": null,
            "border": null,
            "bottom": null,
            "display": null,
            "flex": null,
            "flex_flow": null,
            "grid_area": null,
            "grid_auto_columns": null,
            "grid_auto_flow": null,
            "grid_auto_rows": null,
            "grid_column": null,
            "grid_gap": null,
            "grid_row": null,
            "grid_template_areas": null,
            "grid_template_columns": null,
            "grid_template_rows": null,
            "height": null,
            "justify_content": null,
            "justify_items": null,
            "left": null,
            "margin": null,
            "max_height": null,
            "max_width": null,
            "min_height": null,
            "min_width": null,
            "object_fit": null,
            "object_position": null,
            "order": null,
            "overflow": null,
            "overflow_x": null,
            "overflow_y": null,
            "padding": null,
            "right": null,
            "top": null,
            "visibility": null,
            "width": null
          }
        }
      }
    }
  },
  "nbformat": 4,
  "nbformat_minor": 0
}