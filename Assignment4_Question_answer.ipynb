{
  "nbformat": 4,
  "nbformat_minor": 0,
  "metadata": {
    "colab": {
      "provenance": [],
      "authorship_tag": "ABX9TyPYpZrwVTq2qj9eXucLsf72",
      "include_colab_link": true
    },
    "kernelspec": {
      "name": "python3",
      "display_name": "Python 3"
    },
    "language_info": {
      "name": "python"
    },
    "accelerator": "GPU",
    "gpuClass": "standard"
  },
  "cells": [
    {
      "cell_type": "markdown",
      "metadata": {
        "id": "view-in-github",
        "colab_type": "text"
      },
      "source": [
        "<a href=\"https://colab.research.google.com/github/Only-Mike/DeepLearning-and-AI/blob/main/Assignment4_Question_answer.ipynb\" target=\"_parent\"><img src=\"https://colab.research.google.com/assets/colab-badge.svg\" alt=\"Open In Colab\"/></a>"
      ]
    },
    {
      "cell_type": "code",
      "execution_count": null,
      "metadata": {
        "id": "2-w4IddwWBZD"
      },
      "outputs": [],
      "source": [
        "# Load (some of) required libraries\n",
        "!pip install -U transformers huggingface_hub datasets evaluate -qq\n",
        "from datasets import load_dataset\n",
        "import pandas as pd\n",
        "import numpy as np\n",
        "\n"
      ]
    },
    {
      "cell_type": "code",
      "source": [
        "# Login to Hugging Face Hub to be able to save the model\n",
        "from huggingface_hub import notebook_login\n",
        "\n",
        "notebook_login()"
      ],
      "metadata": {
        "id": "fgJHCHhQjRcO"
      },
      "execution_count": null,
      "outputs": []
    },
    {
      "cell_type": "code",
      "source": [
        "#Dataset created from ChatGPT\n",
        "import random\n",
        "\n",
        "questions = [\n",
        "    \"What is ADHD?\",\n",
        "    \"What are the symptoms of ADHD?\",\n",
        "    \"How is ADHD diagnosed?\",\n",
        "    \"What are the treatments for ADHD?\",\n",
        "    \"Can ADHD be cured?\",\n",
        "    \"What is the difference between ADD and ADHD?\",\n",
        "    \"Is ADHD hereditary?\",\n",
        "    \"What are some strategies for managing ADHD?\",\n",
        "    \"Can ADHD affect adults?\",\n",
        "    \"How does ADHD affect learning?\",\n",
        "    \"How does ADHD affect sleep?\",\n",
        "    \"What are some common misconceptions about ADHD?\",\n",
        "    \"What are some resources for people with ADHD?\",\n",
        "    \"How can ADHD affect relationships?\",\n",
        "    \"What are some ways to talk to your doctor about ADHD?\",\n",
        "    \"What are the different types of ADHD?\",\n",
        "    \"Can adults have ADHD?\",\n",
        "    \"What are some common misconceptions about ADHD?\",\n",
        "    \"Can ADHD be genetic?\",\n",
        "    \"What are some strategies for managing ADHD symptoms at school or work?\",\n",
        "    \"How does ADHD affect academic performance?\",\n",
        "    \"Can exercise help manage symptoms of ADHD?\",\n",
        "    \"How can parents support a child with ADHD?\",\n",
        "    \"How does ADHD affect relationships?\",\n",
        "    \"How can technology be used to support people with ADHD?\",\n",
        "    \"Can ADHD medication be addictive?\",\n",
        "    \"Can diet affect ADHD symptoms?\",\n",
        "    \"How can adults with ADHD manage their finances?\",\n",
        "    \"What is executive functioning and how does it relate to ADHD?\",\n",
        "    \"Can ADHD be caused by poor parenting?\",\n",
        "    \"What are some common medications used to treat ADHD?\",\n",
        "    \"What is hyperfocus, and how does it relate to ADHD?\",\n",
        "    \"Can adults develop ADHD later in life?\",\n",
        "    \"Can people with ADHD be successful in their careers?\",\n",
        "    \"What is neurofeedback, and can it help with ADHD?\",\n",
        "    \"What is ADHD coaching, and how can it help?\",\n",
        "    \"Is ADHD genetic?\",\n",
        "    \"Can stress make ADHD symptoms worse?\"\n",
        "]\n",
        "\n",
        "contexts = [\n",
        "    \"Attention-deficit/hyperactivity disorder (ADHD) is a neurodevelopmental disorder characterized by inattention, hyperactivity, and impulsivity.\",\n",
        "    \"The symptoms of ADHD include difficulty paying attention, hyperactivity, and impulsivity.\",\n",
        "    \"ADHD is typically diagnosed through a combination of assessments, including a medical evaluation, a clinical interview, and rating scales completed by parents, teachers, or caregivers.\",\n",
        "    \"Treatments for ADHD may include medication, therapy, or a combination of both.\",\n",
        "    \"ADHD cannot be cured, but symptoms can be managed with appropriate treatment.\",\n",
        "    \"ADD (attention-deficit disorder) is an outdated term that was previously used to describe individuals with inattention but without hyperactivity or impulsivity. ADHD is now used to describe all presentations of the disorder.\",\n",
        "    \"There is evidence to suggest that ADHD has a genetic component, but the exact cause is not yet fully understood.\",\n",
        "    \"Some strategies for managing ADHD include medication, therapy, exercise, and organizational tools such as calendars and to-do lists.\",\n",
        "    \"ADHD can affect adults, and symptoms may manifest differently than in children.\",\n",
        "    \"ADHD can affect learning by making it difficult to focus and pay attention in class.\",\n",
        "    \"ADHD can affect sleep by causing difficulties falling asleep or staying asleep.\",\n",
        "    \"Some common misconceptions about ADHD include that it only affects children, that it is caused by poor parenting, and that it can be cured with willpower or discipline.\",\n",
        "    \"Some resources for people with ADHD include support groups, therapy, and accommodations at school or work.\",\n",
        "    \"ADHD can affect relationships by causing difficulties with communication, organization, and emotional regulation.\",\n",
        "    \"Some ways to talk to your doctor about ADHD include bringing up specific symptoms, discussing any concerns or questions, and asking about available treatments and resources.\",\n",
        "    \" It is important for individuals with ADHD to work with their teachers, professors, or employers to find strategies that work best for them. With the right support and accommodations, people with ADHD can be successful in school or at work.\",\n",
        "    \"Understanding the genetic factors involved in ADHD can help researchers develop new treatments and interventions. It can also help individuals with ADHD and their families better understand the condition and its causes.\",\n",
        "    \"These misconceptions can be harmful and prevent people with ADHD from receiving the support they need. ADHD is a real condition that can have a significant impact on a person's life, and it is important to dispel these myths in order to promote understanding and acceptance.\",\n",
        "    \"Many adults with ADHD may have struggled with the condition for years without understanding what is causing their symptoms. Receiving a proper diagnosis can be a relief and can help people with ADHD access appropriate treatment and support.\",\n",
        "    \"Teachers and professors can play an important role in supporting students with ADHD. Accommodations such as extra time on exams, access to note-taking services, and breaks during class can help students manage their symptoms and perform to the best of their abilities.\",\n",
        "    \"Exercise is a healthy and natural way to manage ADHD symptoms. Incorporating physical activity into a daily routine can be especially helpful for children with ADHD.\",\n",
        "    \"Parenting a child with ADHD can be challenging, but with the right strategies and support, parents can help their child thrive. It is important for parents to work closely with healthcare providers and teachers to ensure their child receives appropriate care and accommodations.\",\n",
        "    \"It is important for individuals with ADHD to communicate openly with their loved ones about their symptoms and how they can be supported. Couples or family therapy may also be helpful in improving communication and building stronger relationships.\",\n",
        "    \"Technology can be a powerful tool for managing ADHD symptoms. However, it is important to use these tools in conjunction with other treatments, such as medication and therapy.\",\n",
        "    \"It is important for individuals taking ADHD medication to follow their healthcare provider's instructions carefully and to report any side effects or concerns.\",\n",
        "    \"It is important to discuss any dietary changes with a healthcare provider before making them. Some individuals with ADHD may also benefit from working with a registered dietitian to develop a personalized nutrition plan.\",\n",
        "    \"Managing finances can be challenging for individuals with ADHD, but with the right strategies and support, it is possible to build healthy financial habits.\",\n",
        "    \"Understanding executive functioning can be helpful in developing strategies to manage ADHD symptoms\",\n",
        "    \"Medication can be a helpful way to manage ADHD symptoms, but it is important to work with a healthcare provider to find the right medication and dosage for each individual.\",\n",
        "    \"Blaming parents for their child's ADHD can be harmful and unfair. It is important to focus on effective treatments and support for people with ADHD and their families.\",\n",
        "    \"Understanding how ADHD affects executive function can be helpful for developing effective treatments and accommodations.\",\n",
        "    \"Understanding hyperfocus can be helpful for people with ADHD who may struggle with managing their time and prioritizing tasks.\",\n",
        "    \"Understanding that ADHD can persist into adulthood can be helpful for people who may be struggling with symptoms but were not diagnosed as children.\",\n",
        "    \"It is important to recognize that ADHD does not define a person's abilities or potential for success. With the right support and accommodations, people with ADHD can thrive in their careers.\",\n",
        "    \"Neurofeedback is a non-invasive and potentially helpful addition to an overall treatment plan for ADHD. However, more research is needed to determine its effectiveness.\",\n",
        "    \"ADHD coaching can be a helpful addition to an overall treatment plan for ADHD. It can provide support, accountability, and guidance for people with ADHD who may be struggling with day-to-day tasks and responsibilities.\",\n",
        "    \"Understanding that ADHD may have a genetic component can help reduce stigma and promote early diagnosis and treatment.\",\n",
        "    \"Stress is a common experience for many people, but it can be especially challenging for those with ADHD. Developing healthy coping mechanisms and stress-management techniques can be helpful.\"\n",
        "]\n",
        "\n",
        "answers = [\n",
        "    \"ADHD is a neurodevelopmental disorder characterized by inattention, hyperactivity, and impulsivity.\",\n",
        "    \"The symptoms of ADHD can include difficulty paying attention, hyperactivity, and impulsivity, among others.\",\n",
        "    \"ADHD is typically diagnosed through a combination of assessments, including a medical evaluation, a clinical interview, and rating scales completed by parents, teachers, or caregivers.\",\n",
        "    \"Treatments for ADHD may include medication, therapy, or a combination of both, and the best approach may vary depending on individual needs.\",\n",
        "    \"ADHD cannot be cured, but symptoms can be managed with appropriate treatment.\",\n",
        "    \"ADD (attention-deficit disorder) is an outdated term that was previously used to describe individuals with inattention but without hyperactivity or impulsivity. ADHD is now used to describe all presentations of the disorder.\",\n",
        "    \"There is evidence to suggest that ADHD has a genetic component, but the exact cause is not yet fully understood.\",\n",
        "    \"Some strategies for managing ADHD include medication, therapy, exercise, and organizational tools such as calendars and to-do lists.\",\n",
        "    \"ADHD can affect adults, and symptoms may manifest differently than in children. It is important for adults to seek proper diagnosis and treatment if they suspect they have ADHD.\",\n",
        "    \"ADHD can affect learning by making it difficult to focus and pay attention in class. However, with appropriate accommodations and support, individuals with ADHD can still succeed academically.\",\n",
        "    \"ADHD can affect sleep by causing difficulties falling asleep or staying asleep. It is important to address sleep issues in individuals with ADHD, as poor sleep can exacerbate symptoms.\",\n",
        "    \"Some common misconceptions about ADHD include that it only affects children, that it is caused by poor parenting, and that it can be cured with willpower or discipline. These misconceptions can lead to stigmatization and misunderstanding of the disorder.\",\n",
        "    \"Some resources for people with ADHD include support groups, therapy, and accommodations at school or work. It is important for individuals with ADHD to seek out appropriate support and resources.\",\n",
        "    \"ADHD can affect relationships by causing difficulties with communication, organization, and emotional regulation. It is important for individuals with ADHD and their loved ones to understand the impact of the disorder on relationships and to seek out appropriate support.\",\n",
        "    \"Some ways to talk to your doctor about ADHD include bringing up specific symptoms, discussing any concerns or questions, and asking about available treatments and resources.\",\n",
        "    \"There are three different types of ADHD: predominantly inattentive, predominantly hyperactive-impulsive, and combined type. Predominantly inattentive ADHD is characterized by symptoms of inattention, while predominantly hyperactive-impulsive ADHD is characterized by symptoms of hyperactivity and impulsivity. Combined type ADHD includes symptoms of both inattention and hyperactivity-impulsivity.\",\n",
        "    \"Understanding the different types of ADHD is important for accurate diagnosis and treatment planning. Not everyone with ADHD will experience the same symptoms or severity of symptoms, so it is important to tailor treatment to the individual.\",\n",
        "    \"Yes, adults can have ADHD. While ADHD is often diagnosed in childhood, some people may not receive a diagnosis until adulthood. Symptoms of ADHD can persist into adulthood and may cause problems with work, relationships, and daily life.\",\n",
        "    \"There are many misconceptions about ADHD, such as the idea that it only affects children, or that it is a made-up condition. Another common misconception is that people with ADHD are lazy or unmotivated.\",\n",
        "    \"Yes, ADHD is believed to have a genetic component. Research has shown that ADHD tends to run in families, and that certain genes may be associated with the condition.\",\n",
        "    \"There are many strategies that can help manage ADHD symptoms at school or work. These may include breaking tasks down into smaller steps, using visual aids, taking breaks to move around or exercise, and using organizational tools such as calendars or reminders.\",\n",
        "    \"ADHD can make it difficult for a person to pay attention in class, complete assignments, and study effectively. As a result, academic performance may suffer. However, with proper treatment and support, individuals with ADHD can succeed academically.\",\n",
        "    \"Yes, regular exercise can be beneficial for people with ADHD. Exercise can help improve focus, reduce impulsivity, and boost mood.\",\n",
        "    \"Parents can support a child with ADHD by providing structure and routine, using positive reinforcement, and seeking appropriate treatment and support.\",\n",
        "    \"ADHD can affect relationships by making it difficult to communicate effectively, remember important dates and events, and stay organized. It can also lead to impulsive or reckless behavior.\",\n",
        "    \"There are many apps and tools available that can help people with ADHD manage their symptoms. These may include reminder apps, organizational tools, and mindfulness apps.\",\n",
        "    \"ADHD medication can be habit-forming if not taken as prescribed. However, when used appropriately and under the guidance of a healthcare provider, ADHD medication is generally safe and effective.\",\n",
        "    \"While there is no one specific diet that can cure ADHD, a healthy and balanced diet can help manage symptoms. Some studies have suggested that a diet high in omega-3 fatty acids and low in processed foods and sugar may be beneficial.\",\n",
        "    \"Adults with ADHD can benefit from using organizational tools such as calendars and reminders to stay on top of bills and financial obligations. Working with a financial planner or advisor can also be helpful.\",\n",
        "    \" Executive functioning refers to a set of cognitive skills that help individuals plan, organize, and complete tasks. People with ADHD may have difficulty with executive functioning, which can contribute to symptoms such as procrastination and forgetfulness.\",\n",
        "    \"Hyperfocus is a state of intense concentration and focus that some people with ADHD experience when they are highly interested in a task or activity. While it can be helpful in some situations, hyperfocus can also interfere with other responsibilities and priorities.\",\n",
        "    \"No, ADHD is not caused by poor parenting. While environmental factors can play a role in the development of ADHD, it is primarily a neurobiological disorder with genetic and neurological causes.\",\n",
        "    \"Stimulant medications, such as methylphenidate and amphetamine, are commonly used to treat ADHD. Non-stimulant medications, such as atomoxetine and guanfacine, may also be used.\",\n",
        "    \"Yes, adults can develop ADHD later in life, although it is more commonly diagnosed in childhood. Some people may not be diagnosed until adulthood due to a lack of awareness or symptoms that were not as apparent in childhood.\",\n",
        "    \"Yes, people with ADHD can be successful in their careers. Many successful people, including entrepreneurs and artists, have ADHD. However, it may require finding strategies and accommodations that work for the individual.\",\n",
        "    \"Neurofeedback is a type of biofeedback that uses technology to monitor and train brain activity. There is some evidence to suggest that neurofeedback can help improve ADHD symptoms.\",\n",
        "    \"ADHD coaching is a type of coaching specifically designed for people with ADHD. It focuses on developing strategies and skills to manage ADHD symptoms and improve quality of life.\",\n",
        "    \"There is evidence to suggest that ADHD has a genetic component. Children who have a parent or sibling with ADHD are more likely to develop the condition themselves.\",\n",
        "    \"Yes, stress can exacerbate ADHD symptoms, making it more difficult to focus and manage emotions. Finding ways to manage stress can be an important part of managing ADHD.\"\n",
        "]\n",
        "\n",
        "# Set the number of examples you want to create\n",
        "num_examples = 38\n",
        "\n",
        "# Create an empty list to store the examples\n",
        "examples = []\n",
        "\n",
        "# Loop through the number of examples and create a new row for each one\n",
        "for i in range(num_examples):\n",
        "    # Choose a random question and context from the lists\n",
        "    question = random.choice(questions)\n",
        "    context = random.choice(contexts)\n",
        "    \n",
        "    # Create a new row for the example and add it to the list of examples\n",
        "    examples.append({\n",
        "        \"id\": i,\n",
        "        \"title\": \"ADHD\",\n",
        "        \"context\": context,\n",
        "        \"question\": question,\n",
        "        \"answers\": {\"text\": [\"Answer not available\"], \"answer_start\": [0]}\n",
        "    })\n",
        "\n",
        "# Convert the list of examples to a pandas dataframe\n",
        "df = pd.DataFrame(examples)\n",
        "\n",
        "# Reorder the columns to match the desired format (not needed for now)\n",
        "#df = "
      ],
      "metadata": {
        "id": "YG0WPtCdq6p3"
      },
      "execution_count": null,
      "outputs": []
    },
    {
      "cell_type": "code",
      "source": [
        "df.info()"
      ],
      "metadata": {
        "id": "Nyxg8pFcq6p4"
      },
      "execution_count": null,
      "outputs": []
    },
    {
      "cell_type": "code",
      "source": [
        "from datasets import Dataset\n",
        "#Convert Pandas DataFrame to HF Dataframe\n",
        "dataset = Dataset.from_pandas(df)"
      ],
      "metadata": {
        "id": "VDFwraF5vzdl"
      },
      "execution_count": null,
      "outputs": []
    },
    {
      "cell_type": "code",
      "source": [
        "# See if the dataset convertet correctly\n",
        "dataset"
      ],
      "metadata": {
        "id": "taRqulbGvzdm"
      },
      "execution_count": null,
      "outputs": []
    },
    {
      "cell_type": "code",
      "source": [
        "# Split dataset into train/test with test size of 20%\n",
        "dataset = dataset.train_test_split(test_size=0.2)"
      ],
      "metadata": {
        "id": "F0lI7Oy5vzdm"
      },
      "execution_count": null,
      "outputs": []
    },
    {
      "cell_type": "code",
      "source": [
        "# Define the tokenizer\n",
        "from transformers import AutoTokenizer\n",
        "\n",
        "tokenizer = AutoTokenizer.from_pretrained(\"distilbert-base-uncased\")"
      ],
      "metadata": {
        "id": "FtqvI8q7lJ1o"
      },
      "execution_count": null,
      "outputs": []
    },
    {
      "cell_type": "code",
      "source": [
        "# Define a preprocess function to format our input data\n",
        "def preprocess_function(examples):\n",
        "    questions = [q.strip() for q in examples[\"question\"]]\n",
        "    inputs = tokenizer(\n",
        "        questions,\n",
        "        examples[\"context\"],\n",
        "        max_length=384,\n",
        "        truncation=\"only_second\",\n",
        "        return_offsets_mapping=True,\n",
        "        padding=\"max_length\",\n",
        "    )\n",
        "\n",
        "    offset_mapping = inputs.pop(\"offset_mapping\")\n",
        "    answers = examples[\"answers\"]\n",
        "    start_positions = []\n",
        "    end_positions = []\n",
        "\n",
        "    for i, offset in enumerate(offset_mapping):\n",
        "        answer = answers[i]\n",
        "        start_char = answer[\"answer_start\"][0]\n",
        "        end_char = answer[\"answer_start\"][0] + len(answer[\"text\"][0])\n",
        "        sequence_ids = inputs.sequence_ids(i)\n",
        "\n",
        "        # Find the start and end of the context\n",
        "        idx = 0\n",
        "        while sequence_ids[idx] != 1:\n",
        "            idx += 1\n",
        "        context_start = idx\n",
        "        while sequence_ids[idx] == 1:\n",
        "            idx += 1\n",
        "        context_end = idx - 1\n",
        "\n",
        "        # If the answer is not fully inside the context, label it (0, 0)\n",
        "        if offset[context_start][0] > end_char or offset[context_end][1] < start_char:\n",
        "            start_positions.append(0)\n",
        "            end_positions.append(0)\n",
        "        else:\n",
        "            # Otherwise it's the start and end token positions\n",
        "            idx = context_start\n",
        "            while idx <= context_end and offset[idx][0] <= start_char:\n",
        "                idx += 1\n",
        "            start_positions.append(idx - 1)\n",
        "\n",
        "            idx = context_end\n",
        "            while idx >= context_start and offset[idx][1] >= end_char:\n",
        "                idx -= 1\n",
        "            end_positions.append(idx + 1)\n",
        "\n",
        "    inputs[\"start_positions\"] = start_positions\n",
        "    inputs[\"end_positions\"] = end_positions\n",
        "    return inputs"
      ],
      "metadata": {
        "id": "rvKihmcglNzG"
      },
      "execution_count": null,
      "outputs": []
    },
    {
      "cell_type": "code",
      "source": [
        "# Tokenize the dataset using the defined tokenizer and preprocess function\n",
        "tokenized_dataset = dataset.map(preprocess_function, batched=True, remove_columns=dataset[\"train\"].column_names)"
      ],
      "metadata": {
        "id": "GHdFLHVIlTOG"
      },
      "execution_count": null,
      "outputs": []
    },
    {
      "cell_type": "code",
      "source": [
        "# Define data collator\n",
        "from transformers import DefaultDataCollator\n",
        "\n",
        "data_collator = DefaultDataCollator()"
      ],
      "metadata": {
        "id": "bAPsdhIhlWrx"
      },
      "execution_count": null,
      "outputs": []
    },
    {
      "cell_type": "code",
      "source": [
        "# Define the specific model we'll use\n",
        "from transformers import AutoModelForQuestionAnswering, TrainingArguments, Trainer\n",
        "\n",
        "model = AutoModelForQuestionAnswering.from_pretrained(\"distilbert-base-uncased\")"
      ],
      "metadata": {
        "id": "VPGIYLzylbGi"
      },
      "execution_count": null,
      "outputs": []
    },
    {
      "cell_type": "code",
      "source": [
        "# Define training arguments\n",
        "training_args = TrainingArguments(\n",
        "    output_dir=\"ADHD_Test_qa_model\",\n",
        "    evaluation_strategy=\"epoch\",\n",
        "    learning_rate=2e-5,\n",
        "    per_device_train_batch_size=16,\n",
        "    per_device_eval_batch_size=16,\n",
        "    num_train_epochs=40,\n",
        "    weight_decay=0.01,\n",
        "    push_to_hub=True,\n",
        ")\n",
        "# Define the trainer\n",
        "trainer = Trainer(\n",
        "    model=model,\n",
        "    args=training_args,\n",
        "    train_dataset=tokenized_squad[\"train\"],\n",
        "    eval_dataset=tokenized_squad[\"test\"],\n",
        "    tokenizer=tokenizer,\n",
        "    data_collator=data_collator,\n",
        ")\n",
        "\n",
        "trainer.train()"
      ],
      "metadata": {
        "id": "wG1bfTPulfmv"
      },
      "execution_count": null,
      "outputs": []
    },
    {
      "cell_type": "code",
      "source": [
        "trainer.push_to_hub()"
      ],
      "metadata": {
        "id": "nrf9LI-hyocm"
      },
      "execution_count": null,
      "outputs": []
    },
    {
      "cell_type": "code",
      "source": [
        "question = \"What is ADHD?\"\n",
        "context = \"Attention-deficit/hyperactivity disorder (ADHD) is a neurodevelopmental disorder characterized by inattention, hyperactivity, and impulsivity.\""
      ],
      "metadata": {
        "id": "ZYrnV5OBp1CL"
      },
      "execution_count": null,
      "outputs": []
    },
    {
      "cell_type": "code",
      "source": [
        "from transformers import pipeline\n",
        "\n",
        "question_answerer = pipeline(\"question-answering\", model=\"ADHD_Test_qa_model\")\n",
        "question_answerer(question=question, context=context)"
      ],
      "metadata": {
        "id": "nh7R_5vsxXle"
      },
      "execution_count": null,
      "outputs": []
    },
    {
      "cell_type": "code",
      "source": [
        "!pip install gradio\n",
        "import gradio as gr"
      ],
      "metadata": {
        "id": "PDisYOqKx49F"
      },
      "execution_count": null,
      "outputs": []
    },
    {
      "cell_type": "code",
      "source": [
        "def question_answer(context, question):\n",
        "    # Answering from the trained model\n",
        "    result = question_answerer(question=question, context=context)\n",
        "    return result[\"answer\"]\n",
        "\n",
        "gr.Interface(fn=question_answer, inputs=[\"text\", \"text\"], outputs=[\"text\"]).launch()"
      ],
      "metadata": {
        "id": "d5xju-o2ZMRJ"
      },
      "execution_count": null,
      "outputs": []
    }
  ]
}