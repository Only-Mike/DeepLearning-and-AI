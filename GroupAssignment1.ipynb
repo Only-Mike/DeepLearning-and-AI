{
  "nbformat": 4,
  "nbformat_minor": 0,
  "metadata": {
    "colab": {
      "provenance": [],
      "authorship_tag": "ABX9TyOJFMDi35JZaSWNlDRhgL9d",
      "include_colab_link": true
    },
    "kernelspec": {
      "name": "python3",
      "display_name": "Python 3"
    },
    "language_info": {
      "name": "python"
    }
  },
  "cells": [
    {
      "cell_type": "markdown",
      "metadata": {
        "id": "view-in-github",
        "colab_type": "text"
      },
      "source": [
        "<a href=\"https://colab.research.google.com/github/Only-Mike/DeepLearning-and-AI/blob/main/GroupAssignment1.ipynb\" target=\"_parent\"><img src=\"https://colab.research.google.com/assets/colab-badge.svg\" alt=\"Open In Colab\"/></a>"
      ]
    },
    {
      "cell_type": "code",
      "source": [],
      "metadata": {
        "id": "3pn7awgj5Rlh"
      },
      "execution_count": null,
      "outputs": []
    },
    {
      "cell_type": "code",
      "source": [],
      "metadata": {
        "id": "GvMYxhcb5Ri1"
      },
      "execution_count": null,
      "outputs": []
    },
    {
      "cell_type": "code",
      "source": [],
      "metadata": {
        "id": "NeOD3LQ95RgX"
      },
      "execution_count": null,
      "outputs": []
    },
    {
      "cell_type": "code",
      "source": [],
      "metadata": {
        "id": "QstMY8rj5RdU"
      },
      "execution_count": null,
      "outputs": []
    },
    {
      "cell_type": "code",
      "source": [],
      "metadata": {
        "id": "nZUDkApn5RUa"
      },
      "execution_count": null,
      "outputs": []
    },
    {
      "cell_type": "code",
      "execution_count": null,
      "metadata": {
        "id": "Z9IjVxGs5EDD"
      },
      "outputs": [],
      "source": [
        "# Initializing Hyperparameters\n",
        "epochs = 100\n",
        "learning_rate = 0.01\n",
        "loss_set = {}\n",
        "\n",
        "# 1. Creating a FeedForwardNetwork\n",
        "model_net4 = torch.nn.Sequential(\n",
        "                         torch.nn.Linear(1,6),\n",
        "                         torch.nn.ReLU(),\n",
        "                         torch.nn.Linear(6,5),\n",
        "                         torch.nn.ReLU(),\n",
        "                         torch.nn.Linear(5,1),\n",
        "                         torch.nn.Identity()\n",
        "                         );\n",
        "loss_mse = torch.nn.MSELoss()\n",
        "optimizer = torch.optim.RMSprop(model_net4.parameters(), lr=learning_rate)\n",
        "\n",
        "# Loop over the number of epochs\n",
        "for i in tqdm_notebook(range(epochs), total=epochs, unit=\"epoch\"):\n",
        "      lost_set_epoch = {}\n",
        "      j = 0\n",
        "      for x, y_t in zip(X_tensor, y_tensor):\n",
        "          output = model_net4.forward(x.float())\n",
        "          # 2. FeedForward Evaluation\n",
        "          loss = loss_mse(output, y_t.float())\n",
        "          optimizer.zero_grad();\n",
        "\n",
        "          # 3. Backward / Gradient Calculation\n",
        "          loss.backward()\n",
        "          # 4. Back Propagation\n",
        "          optimizer.step()\n",
        "          # Store the loss for each sample of data\n",
        "          lost_set_epoch[j] = loss\n",
        "          j = j + 1\n",
        "      \n",
        "      # Store the loss for each epoch\n",
        "      loss_set[i] = torch.mean(torch.stack(list(lost_set_epoch.values()))).detach().numpy()\n",
        "\n",
        "      # Display the loss after every 10 epochs\n",
        "      if (i % 10)==0:\n",
        "         print (f\"Loss: {loss_set[i]}\")\n"
      ]
    }
  ]
}