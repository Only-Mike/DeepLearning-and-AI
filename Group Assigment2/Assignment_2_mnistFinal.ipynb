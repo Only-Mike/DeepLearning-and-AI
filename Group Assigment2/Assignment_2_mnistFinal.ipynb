{
  "nbformat": 4,
  "nbformat_minor": 0,
  "metadata": {
    "colab": {
      "provenance": [],
      "authorship_tag": "ABX9TyNxDp3Fa8dBEBkX1U2xei2b",
      "include_colab_link": true
    },
    "kernelspec": {
      "name": "python3",
      "display_name": "Python 3"
    },
    "language_info": {
      "name": "python"
    }
  },
  "cells": [
    {
      "cell_type": "markdown",
      "metadata": {
        "id": "view-in-github",
        "colab_type": "text"
      },
      "source": [
        "<a href=\"https://colab.research.google.com/github/Only-Mike/DeepLearning-and-AI/blob/main/Group%20Assigment2/Assignment_2_mnistFinal.ipynb\" target=\"_parent\"><img src=\"https://colab.research.google.com/assets/colab-badge.svg\" alt=\"Open In Colab\"/></a>"
      ]
    },
    {
      "cell_type": "markdown",
      "source": [
        "#CNN 1"
      ],
      "metadata": {
        "id": "7uFlnLaHpfN7"
      }
    },
    {
      "cell_type": "markdown",
      "source": [
        "**Importing the libraries**"
      ],
      "metadata": {
        "id": "CIKxChgZ2-tw"
      }
    },
    {
      "cell_type": "code",
      "source": [
        "import torch\n",
        "import torch.nn as nn\n",
        "import torch.nn.functional as F\n",
        "import torchvision\n",
        "import torchvision.transforms as transforms\n",
        "import matplotlib.pyplot as plt\n",
        "import numpy as np\n",
        "from torchvision import datasets\n",
        "from torchvision.transforms import ToTensor\n",
        "\n",
        "# Device configuration\n",
        "device = torch.device('cuda' if torch.cuda.is_available() else 'cpu')"
      ],
      "metadata": {
        "id": "uNqQP0lhpjL4"
      },
      "execution_count": 1,
      "outputs": []
    },
    {
      "cell_type": "code",
      "source": [
        "# Hyper-parameters of the model\n",
        "num_epochs = 3\n",
        "batch_size = 10\n",
        "learning_rate = 0.01"
      ],
      "metadata": {
        "id": "C7mZvUNepr3A"
      },
      "execution_count": 2,
      "outputs": []
    },
    {
      "cell_type": "code",
      "source": [
        "# We transform them to Tensors of normalized range [-1, 1]\n",
        "transform = transforms.Compose(\n",
        "    [transforms.ToTensor(),\n",
        "     transforms.Normalize((0.5, 0.5, 0.5), (0.5, 0.5, 0.5))])"
      ],
      "metadata": {
        "id": "kwIN93LLiylN"
      },
      "execution_count": 3,
      "outputs": []
    },
    {
      "cell_type": "markdown",
      "source": [
        "**Loading** **data**"
      ],
      "metadata": {
        "id": "nKeZiTacZt-q"
      }
    },
    {
      "cell_type": "code",
      "source": [
        "train_data = datasets.MNIST(\n",
        "    root = 'data',\n",
        "    train = True,                         \n",
        "    transform = ToTensor(), \n",
        "    download = True,            \n",
        ")\n",
        "test_data = datasets.MNIST(\n",
        "    root = 'data', \n",
        "    train = False, \n",
        "    transform = ToTensor()\n",
        ")"
      ],
      "metadata": {
        "id": "DPqjj0oMrTNX"
      },
      "execution_count": 4,
      "outputs": []
    },
    {
      "cell_type": "markdown",
      "source": [
        "**Some visualisation**"
      ],
      "metadata": {
        "id": "F_B7vnFR3Gc1"
      }
    },
    {
      "cell_type": "code",
      "source": [
        "import matplotlib.pyplot as plt\n",
        "plt.imshow(train_data.data[0], cmap='gray')\n",
        "plt.title('%i' % train_data.targets[0])\n",
        "plt.show()"
      ],
      "metadata": {
        "colab": {
          "base_uri": "https://localhost:8080/",
          "height": 281
        },
        "id": "Fds-VH3WgEqV",
        "outputId": "8cb84a0d-7680-4b60-b23e-2f87bcb2b1c2"
      },
      "execution_count": 5,
      "outputs": [
        {
          "output_type": "display_data",
          "data": {
            "text/plain": [
              "<Figure size 432x288 with 1 Axes>"
            ],
            "image/png": "[encoded data removed]"
          },
          "metadata": {
            "needs_background": "light"
          }
        }
      ]
    },
    {
      "cell_type": "code",
      "source": [
        "figure = plt.figure(figsize=(10, 8))\n",
        "cols, rows = 5, 5\n",
        "for i in range(1, cols * rows + 1):\n",
        "    sample_idx = torch.randint(len(train_data), size=(1,)).item()\n",
        "    img, label = train_data[sample_idx]\n",
        "    figure.add_subplot(rows, cols, i)\n",
        "    plt.title(label)\n",
        "    plt.axis(\"off\")\n",
        "    plt.imshow(img.squeeze(), cmap=\"gray\")\n",
        "plt.show()"
      ],
      "metadata": {
        "colab": {
          "base_uri": "https://localhost:8080/",
          "height": 482
        },
        "id": "NBmJ8dbtgO1T",
        "outputId": "d6a9a4b1-8e64-421d-ddd4-a7f3a354cb98"
      },
      "execution_count": 6,
      "outputs": [
        {
          "output_type": "display_data",
          "data": {
            "text/plain": [
              "<Figure size 720x576 with 25 Axes>"
            ],
            "image/png": "[encoded data removed]"
          },
          "metadata": {
            "needs_background": "light"
          }
        }
      ]
    },
    {
      "cell_type": "code",
      "source": [
        "print(train_data)"
      ],
      "metadata": {
        "colab": {
          "base_uri": "https://localhost:8080/"
        },
        "id": "0SbUw9cUrftt",
        "outputId": "1b0b8aa8-af5a-4f78-f522-41e626139c10"
      },
      "execution_count": 7,
      "outputs": [
        {
          "output_type": "stream",
          "name": "stdout",
          "text": [
            "Dataset MNIST\n",
            "    Number of datapoints: 60000\n",
            "    Root location: data\n",
            "    Split: Train\n",
            "    StandardTransform\n",
            "Transform: ToTensor()\n"
          ]
        }
      ]
    },
    {
      "cell_type": "code",
      "source": [
        "print(test_data)"
      ],
      "metadata": {
        "colab": {
          "base_uri": "https://localhost:8080/"
        },
        "id": "MxzZWaSJrgoC",
        "outputId": "bff6fd8c-36c2-4e64-d50b-070f85aefb47"
      },
      "execution_count": 8,
      "outputs": [
        {
          "output_type": "stream",
          "name": "stdout",
          "text": [
            "Dataset MNIST\n",
            "    Number of datapoints: 10000\n",
            "    Root location: data\n",
            "    Split: Test\n",
            "    StandardTransform\n",
            "Transform: ToTensor()\n"
          ]
        }
      ]
    },
    {
      "cell_type": "code",
      "source": [
        "train_loader = torch.utils.data.DataLoader(train_data, batch_size = batch_size, shuffle=True,num_workers=1)\n",
        "\n",
        "test_loader = torch.utils.data.DataLoader(test_data, batch_size = batch_size, shuffle=True,num_workers=1)\n",
        "\n",
        "classes = (\"0\",'1', '2', '3', '4', '5', '6', '7', '8', '9')"
      ],
      "metadata": {
        "id": "6YaY47mysExE"
      },
      "execution_count": 9,
      "outputs": []
    },
    {
      "cell_type": "code",
      "source": [
        "print(train_data.data.size())\n"
      ],
      "metadata": {
        "colab": {
          "base_uri": "https://localhost:8080/"
        },
        "id": "eYWQb2wPtttk",
        "outputId": "2bf56cc1-4c61-45fe-b901-bea1c8258fce"
      },
      "execution_count": 10,
      "outputs": [
        {
          "output_type": "stream",
          "name": "stdout",
          "text": [
            "torch.Size([60000, 28, 28])\n"
          ]
        }
      ]
    },
    {
      "cell_type": "markdown",
      "source": [
        "**Implementing ConvNet**"
      ],
      "metadata": {
        "id": "MpjpRy9v3Ti_"
      }
    },
    {
      "cell_type": "code",
      "source": [
        "\n",
        "\n",
        "#torch.nn.Conv2d(in_channels, out_channels, kernel_size)\n",
        "\n",
        "class ConvNet(nn.Module):\n",
        "    def __init__(self):\n",
        "        super(ConvNet, self).__init__()\n",
        "        self.conv1 = nn.Conv2d(1, 16, 4) #1 channel because our input is a grayscale image #1 channels, 16 filters, 4x4 filter size\n",
        "        self.pool = nn.MaxPool2d(2,2) #size 2X2, stride: 2\n",
        "        self.conv2 = nn.Conv2d(16, 28, 4)\n",
        "        self.fc1 = nn.Linear(28*4*4, 120) #28*4*4= number of output channels * dimension of the output layer after feature learning; 120 manually set as outcome of the \n",
        "        self.fc2 = nn.Linear(120, 84)\n",
        "        self.fc3 = nn.Linear(84, 10) #the output dimension (in our case 10) needs to be equal to the number of classes\n",
        "    \n",
        "    def forward(self, x):\n",
        "        x = self.pool(F.relu(self.conv1(x)))\n",
        "        x = self.pool(F.relu(self.conv2(x)))\n",
        "        x = x.view(x.size(0), -1) #torch.view() function freshape the input tensor\n",
        "        x = F.relu(self.fc1(x))\n",
        "        x = F.relu(self.fc2(x))\n",
        "        x = self.fc3(x)\n",
        "        return x\n",
        "    \n",
        "model = ConvNet().to(device)"
      ],
      "metadata": {
        "id": "-y6Bg4mJVfcz"
      },
      "execution_count": 11,
      "outputs": []
    },
    {
      "cell_type": "code",
      "source": [
        "criterion = nn.CrossEntropyLoss() #CrossEntropyLoss already includes SoftMax\n",
        "optimizer = torch.optim.SGD(model.parameters(), lr=learning_rate)"
      ],
      "metadata": {
        "id": "kJfudfC2YjP0"
      },
      "execution_count": 12,
      "outputs": []
    },
    {
      "cell_type": "code",
      "source": [
        "cnn = ConvNet()\n",
        "print(cnn)"
      ],
      "metadata": {
        "colab": {
          "base_uri": "https://localhost:8080/"
        },
        "id": "duAAP8HQYosF",
        "outputId": "d4991432-cbf4-4938-d76b-d9fa43310f56"
      },
      "execution_count": 13,
      "outputs": [
        {
          "output_type": "stream",
          "name": "stdout",
          "text": [
            "ConvNet(\n",
            "  (conv1): Conv2d(1, 16, kernel_size=(4, 4), stride=(1, 1))\n",
            "  (pool): MaxPool2d(kernel_size=2, stride=2, padding=0, dilation=1, ceil_mode=False)\n",
            "  (conv2): Conv2d(16, 28, kernel_size=(4, 4), stride=(1, 1))\n",
            "  (fc1): Linear(in_features=448, out_features=120, bias=True)\n",
            "  (fc2): Linear(in_features=120, out_features=84, bias=True)\n",
            "  (fc3): Linear(in_features=84, out_features=10, bias=True)\n",
            ")\n"
          ]
        }
      ]
    },
    {
      "cell_type": "markdown",
      "source": [
        "Parameters\n",
        "\n",
        "in_channels (int) — Number of channels in the input image\n",
        "\n",
        "out_channels (int) — Number of channels produced by the convolution\n",
        "\n",
        "kernel_size (int or tuple) — Size of the convolving kernel\n",
        "\n",
        "stride (int or tuple, optional) — Stride of the convolution.\n",
        " Default 1\n",
        "\n",
        "padding (int or tuple, optional) — Zero-padding added to both sides of the input. Default: 0\n",
        "\n",
        "padding_mode (string, optional) — ‘zeros’, ‘reflect’, ‘replicate’ or ‘circular’. Default: ‘zeros’\n",
        "\n",
        "dilation (int or tuple, optional) — Spacing between kernel elements. Default: 1\n",
        "\n",
        "groups (int, optional) — Number of blocked connections from input channels to output channels. Default: 1\n",
        "\n",
        "bias (bool, optional) — If True, adds a learnable bias to the output. Default: True"
      ],
      "metadata": {
        "id": "OZGo1hEJZSNV"
      }
    },
    {
      "cell_type": "code",
      "source": [
        "n_total_steps = len(train_loader)\n",
        "for epoch in range(num_epochs):\n",
        "    for i, (images, labels) in enumerate(train_loader):\n",
        "        # origin shape: [128, 1, 28, 28]\n",
        "        # input_layer: 1 input channel, 16 output channels, 5 kernel size\n",
        "        images = images.to(device)\n",
        "        labels = labels.to(device)\n",
        "\n",
        "        # Forward pass\n",
        "        output = model(images)\n",
        "        loss = criterion(output, labels)\n",
        "        \n",
        "        # Backward and optimize\n",
        "        optimizer.zero_grad() #with zero_grad() we ensure that the gradients are properly reset to zero at the start of each iteration\n",
        "        loss.backward()\n",
        "        optimizer.step()\n",
        "        #wandb.log({\"loss\": loss})  uncomment this line if you want to send data to weights and biases interface\n",
        "\n",
        "\n",
        "        if (i+1) % 1000 == 0:\n",
        "            print (f'Epoch [{epoch+1}/{num_epochs}], Step [{i+1}/{n_total_steps}], Loss: {loss.item():.4f}')\n",
        "            # Calculate average accuracy for every 100 steps\n",
        "            model.eval()\n",
        "            with torch.no_grad():\n",
        "                correct = 0\n",
        "                total = 0\n",
        "                for images, labels in test_loader:\n",
        "                    images = images.to(device)\n",
        "                    labels = labels.to(device)\n",
        "                    outputs = model(images)\n",
        "                    _, predicted = torch.max(outputs.data, 1)\n",
        "                    total += labels.size(0)\n",
        "                    correct += (predicted == labels).sum().item()\n",
        "                accuracy = correct / total\n",
        "                #wandb.log({\"accuracy\": accuracy}) uncomment this line if you want to send data to weights and biases interface\n",
        "        \n",
        "print('Finished Training')\n",
        "PATH = './cnn.pth'\n",
        "torch.save(model.state_dict(), PATH)"
      ],
      "metadata": {
        "colab": {
          "base_uri": "https://localhost:8080/"
        },
        "id": "ynGZ90ZYZPBX",
        "outputId": "7d0b615d-67c0-4a8f-ad3f-66e4f61409e4"
      },
      "execution_count": 14,
      "outputs": [
        {
          "output_type": "stream",
          "name": "stdout",
          "text": [
            "Epoch [1/3], Step [1000/6000], Loss: 1.4970\n",
            "Epoch [1/3], Step [2000/6000], Loss: 0.3922\n",
            "Epoch [1/3], Step [3000/6000], Loss: 0.0474\n",
            "Epoch [1/3], Step [4000/6000], Loss: 0.7652\n",
            "Epoch [1/3], Step [5000/6000], Loss: 0.0192\n",
            "Epoch [1/3], Step [6000/6000], Loss: 0.0045\n",
            "Epoch [2/3], Step [1000/6000], Loss: 0.1127\n",
            "Epoch [2/3], Step [2000/6000], Loss: 0.1267\n",
            "Epoch [2/3], Step [3000/6000], Loss: 0.1967\n",
            "Epoch [2/3], Step [4000/6000], Loss: 0.0280\n",
            "Epoch [2/3], Step [5000/6000], Loss: 0.0276\n",
            "Epoch [2/3], Step [6000/6000], Loss: 0.4416\n",
            "Epoch [3/3], Step [1000/6000], Loss: 0.1320\n",
            "Epoch [3/3], Step [2000/6000], Loss: 0.2668\n",
            "Epoch [3/3], Step [3000/6000], Loss: 0.0305\n",
            "Epoch [3/3], Step [4000/6000], Loss: 0.0691\n",
            "Epoch [3/3], Step [5000/6000], Loss: 0.0006\n",
            "Epoch [3/3], Step [6000/6000], Loss: 0.0501\n",
            "Finished Training\n"
          ]
        }
      ]
    },
    {
      "cell_type": "code",
      "source": [
        "print(labels.size())"
      ],
      "metadata": {
        "colab": {
          "base_uri": "https://localhost:8080/"
        },
        "id": "E356vcPfu8Sj",
        "outputId": "6cae720d-4e55-4937-be5f-d7ac882da3c8"
      },
      "execution_count": 15,
      "outputs": [
        {
          "output_type": "stream",
          "name": "stdout",
          "text": [
            "torch.Size([10])\n"
          ]
        }
      ]
    },
    {
      "cell_type": "code",
      "source": [
        "with torch.no_grad():\n",
        "    n_correct = 0\n",
        "    n_samples = 0\n",
        "    n_class_correct = [0 for i in range(10)]\n",
        "    n_class_samples = [0 for i in range(10)]\n",
        "    for images, labels in test_loader:\n",
        "        images = images.to(device)\n",
        "        labels = labels.to(device)\n",
        "        outputs = model(images)\n",
        "        # max returns (value ,index)\n",
        "        _, predicted = torch.max(outputs, 1)\n",
        "        n_samples += labels.size(0)\n",
        "        n_correct += (predicted == labels).sum().item()\n",
        "        \n",
        "        for i in range(batch_size):\n",
        "            label = labels[i]\n",
        "            pred = predicted[i]\n",
        "            if (label == pred):\n",
        "                n_class_correct[label] += 1\n",
        "            n_class_samples[label] += 1\n",
        "\n",
        "    acc = 100.0 * n_correct / n_samples\n",
        "    print(f'Accuracy of the network: {acc} %')\n",
        "\n",
        "    for i in range(10):\n",
        "        acc = 100.0 * n_class_correct[i] / n_class_samples[i]\n",
        "        print(f'Accuracy of {classes[i]}: {acc} %')"
      ],
      "metadata": {
        "colab": {
          "base_uri": "https://localhost:8080/"
        },
        "id": "gGCEhfGQmdqT",
        "outputId": "0e3a0d4c-2bf2-451b-a119-9649dd1eb448"
      },
      "execution_count": 16,
      "outputs": [
        {
          "output_type": "stream",
          "name": "stdout",
          "text": [
            "Accuracy of the network: 98.53 %\n",
            "Accuracy of 0: 98.87755102040816 %\n",
            "Accuracy of 1: 99.38325991189427 %\n",
            "Accuracy of 2: 98.83720930232558 %\n",
            "Accuracy of 3: 98.31683168316832 %\n",
            "Accuracy of 4: 98.06517311608961 %\n",
            "Accuracy of 5: 98.87892376681614 %\n",
            "Accuracy of 6: 99.16492693110648 %\n",
            "Accuracy of 7: 98.63813229571984 %\n",
            "Accuracy of 8: 98.35728952772074 %\n",
            "Accuracy of 9: 96.72943508424183 %\n"
          ]
        }
      ]
    },
    {
      "cell_type": "markdown",
      "source": [
        "#CNN 2"
      ],
      "metadata": {
        "id": "YJMr2G379y_T"
      }
    },
    {
      "cell_type": "markdown",
      "source": [
        "We changed number to epochs to 10 and size of the step to 2000"
      ],
      "metadata": {
        "id": "00A2yDC5_Ek9"
      }
    },
    {
      "cell_type": "code",
      "source": [
        "# Hyper-parameters of the model\n",
        "num_epochs = 10\n",
        "batch_size = 10\n",
        "learning_rate = 0.01"
      ],
      "metadata": {
        "id": "Em_hcI1x-D5d"
      },
      "execution_count": 17,
      "outputs": []
    },
    {
      "cell_type": "code",
      "source": [
        "\n",
        "#torch.nn.Conv2d(in_channels, out_channels, kernel_size)\n",
        "\n",
        "class ConvNet(nn.Module):\n",
        "    def __init__(self):\n",
        "        super(ConvNet, self).__init__()\n",
        "        self.conv1 = nn.Conv2d(1, 6, 4) #1 channel because our input is a grayscale image #1 channels, 16 filters, 4x4 filter size\n",
        "        self.pool = nn.MaxPool2d(2,2) #size 2X2, stride: 2\n",
        "        self.conv2 = nn.Conv2d(6, 28, 4)\n",
        "        self.fc1 = nn.Linear(28*4*4, 120) #16*5*5= number of output channels * dimension of the output layer after feature learning; 120 manually set as outcome of the \n",
        "        self.fc2 = nn.Linear(120, 84)\n",
        "        self.fc3 = nn.Linear(84, 10) #the output dimension (in our case 10) needs to be equal to the number of classes\n",
        "    \n",
        "    def forward(self, x):\n",
        "        x = self.pool(F.relu(self.conv1(x)))\n",
        "        x = self.pool(F.relu(self.conv2(x)))\n",
        "        x = x.view(x.size(0), -1) #torch.view() function freshape the input tensor\n",
        "        x = F.relu(self.fc1(x))\n",
        "        x = F.relu(self.fc2(x))\n",
        "        x = self.fc3(x)\n",
        "        return x\n",
        "    \n",
        "model = ConvNet().to(device)"
      ],
      "metadata": {
        "id": "MDL8XjTL9yZR"
      },
      "execution_count": 18,
      "outputs": []
    },
    {
      "cell_type": "code",
      "source": [
        "n_total_steps = len(train_loader)\n",
        "for epoch in range(num_epochs):\n",
        "    for i, (images, labels) in enumerate(train_loader):\n",
        "        # origin shape: [128, 1, 28, 28]\n",
        "        # input_layer: 1 input channel, 16 output channels, 5 kernel size\n",
        "        images = images.to(device)\n",
        "        labels = labels.to(device)\n",
        "\n",
        "        # Forward pass\n",
        "        output = model(images)\n",
        "        loss = criterion(output, labels)\n",
        "        \n",
        "        # Backward and optimize\n",
        "        optimizer.zero_grad() #with zero_grad() we ensure that the gradients are properly reset to zero at the start of each iteration\n",
        "        loss.backward()\n",
        "        optimizer.step()\n",
        "        #wandb.log({\"loss\": loss})  uncomment this line if you want to send data to weights and biases interface\n",
        "\n",
        "\n",
        "        if (i+1) % 2000 == 0:\n",
        "            print (f'Epoch [{epoch+1}/{num_epochs}], Step [{i+1}/{n_total_steps}], Loss: {loss.item():.4f}')\n",
        "            # Calculate average accuracy for every 100 steps\n",
        "            model.eval()\n",
        "            with torch.no_grad():\n",
        "                correct = 0\n",
        "                total = 0\n",
        "                for images, labels in test_loader:\n",
        "                    images = images.to(device)\n",
        "                    labels = labels.to(device)\n",
        "                    outputs = model(images)\n",
        "                    _, predicted = torch.max(outputs.data, 1)\n",
        "                    total += labels.size(0)\n",
        "                    correct += (predicted == labels).sum().item()\n",
        "                accuracy = correct / total\n",
        "                #wandb.log({\"accuracy\": accuracy}) uncomment this line if you want to send data to weights and biases interface\n",
        "        \n",
        "print('Finished Training')\n",
        "PATH = './cnn.pth'\n",
        "torch.save(model.state_dict(), PATH)"
      ],
      "metadata": {
        "colab": {
          "base_uri": "https://localhost:8080/"
        },
        "id": "z1K6ryWQ-Tn5",
        "outputId": "330c1d69-efb2-4624-a18f-6617fc11c9a2"
      },
      "execution_count": 19,
      "outputs": [
        {
          "output_type": "stream",
          "name": "stdout",
          "text": [
            "Epoch [1/10], Step [2000/6000], Loss: 2.2810\n",
            "Epoch [1/10], Step [4000/6000], Loss: 2.3427\n",
            "Epoch [1/10], Step [6000/6000], Loss: 2.3248\n",
            "Epoch [2/10], Step [2000/6000], Loss: 2.3101\n",
            "Epoch [2/10], Step [4000/6000], Loss: 2.3295\n",
            "Epoch [2/10], Step [6000/6000], Loss: 2.3333\n",
            "Epoch [3/10], Step [2000/6000], Loss: 2.3273\n",
            "Epoch [3/10], Step [4000/6000], Loss: 2.2769\n",
            "Epoch [3/10], Step [6000/6000], Loss: 2.2408\n",
            "Epoch [4/10], Step [2000/6000], Loss: 2.2988\n",
            "Epoch [4/10], Step [4000/6000], Loss: 2.2942\n",
            "Epoch [4/10], Step [6000/6000], Loss: 2.3018\n",
            "Epoch [5/10], Step [2000/6000], Loss: 2.3114\n",
            "Epoch [5/10], Step [4000/6000], Loss: 2.2952\n",
            "Epoch [5/10], Step [6000/6000], Loss: 2.3431\n",
            "Epoch [6/10], Step [2000/6000], Loss: 2.3498\n",
            "Epoch [6/10], Step [4000/6000], Loss: 2.3200\n",
            "Epoch [6/10], Step [6000/6000], Loss: 2.2894\n",
            "Epoch [7/10], Step [2000/6000], Loss: 2.3256\n",
            "Epoch [7/10], Step [4000/6000], Loss: 2.2853\n",
            "Epoch [7/10], Step [6000/6000], Loss: 2.2479\n",
            "Epoch [8/10], Step [2000/6000], Loss: 2.3179\n",
            "Epoch [8/10], Step [4000/6000], Loss: 2.3357\n",
            "Epoch [8/10], Step [6000/6000], Loss: 2.2877\n",
            "Epoch [9/10], Step [2000/6000], Loss: 2.2902\n",
            "Epoch [9/10], Step [4000/6000], Loss: 2.2908\n",
            "Epoch [9/10], Step [6000/6000], Loss: 2.2820\n",
            "Epoch [10/10], Step [2000/6000], Loss: 2.2623\n",
            "Epoch [10/10], Step [4000/6000], Loss: 2.3240\n",
            "Epoch [10/10], Step [6000/6000], Loss: 2.3091\n",
            "Finished Training\n"
          ]
        }
      ]
    },
    {
      "cell_type": "code",
      "source": [
        "with torch.no_grad():\n",
        "    n_correct = 0\n",
        "    n_samples = 0\n",
        "    n_class_correct = [0 for i in range(10)]\n",
        "    n_class_samples = [0 for i in range(10)]\n",
        "    for images, labels in test_loader:\n",
        "        images = images.to(device)\n",
        "        labels = labels.to(device)\n",
        "        outputs = model(images)\n",
        "        # max returns (value ,index)\n",
        "        _, predicted = torch.max(outputs, 1)\n",
        "        n_samples += labels.size(0)\n",
        "        n_correct += (predicted == labels).sum().item()\n",
        "        \n",
        "        for i in range(batch_size):\n",
        "            label = labels[i]\n",
        "            pred = predicted[i]\n",
        "            if (label == pred):\n",
        "                n_class_correct[label] += 1\n",
        "            n_class_samples[label] += 1\n",
        "\n",
        "    acc = 100.0 * n_correct / n_samples\n",
        "    print(f'Accuracy of the network: {acc} %')\n",
        "\n",
        "    for i in range(10):\n",
        "        acc = 100.0 * n_class_correct[i] / n_class_samples[i]\n",
        "        print(f'Accuracy of {classes[i]}: {acc} %')"
      ],
      "metadata": {
        "colab": {
          "base_uri": "https://localhost:8080/"
        },
        "id": "yNyLbV_C-YH6",
        "outputId": "d880a8ed-0a97-4e89-f43d-dd56327393f6"
      },
      "execution_count": 20,
      "outputs": [
        {
          "output_type": "stream",
          "name": "stdout",
          "text": [
            "Accuracy of the network: 6.76 %\n",
            "Accuracy of 0: 0.0 %\n",
            "Accuracy of 1: 0.0 %\n",
            "Accuracy of 2: 0.0 %\n",
            "Accuracy of 3: 0.0 %\n",
            "Accuracy of 4: 0.0 %\n",
            "Accuracy of 5: 0.0 %\n",
            "Accuracy of 6: 55.8455114822547 %\n",
            "Accuracy of 7: 0.0 %\n",
            "Accuracy of 8: 0.0 %\n",
            "Accuracy of 9: 13.974231912784935 %\n"
          ]
        }
      ]
    },
    {
      "cell_type": "markdown",
      "source": [
        "So there is no need in too many epochs"
      ],
      "metadata": {
        "id": "p9XpJ4YZBNkJ"
      }
    }
  ]
}
