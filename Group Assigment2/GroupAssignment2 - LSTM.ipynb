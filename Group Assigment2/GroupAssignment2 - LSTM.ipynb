{
  "nbformat": 4,
  "nbformat_minor": 0,
  "metadata": {
    "colab": {
      "provenance": [],
      "authorship_tag": "ABX9TyPI/8a7x1DCySC3kjWF739E",
      "include_colab_link": true
    },
    "kernelspec": {
      "name": "python3",
      "display_name": "Python 3"
    },
    "language_info": {
      "name": "python"
    }
  },
  "cells": [
    {
      "cell_type": "markdown",
      "metadata": {
        "id": "view-in-github",
        "colab_type": "text"
      },
      "source": [
        "<a href=\"https://colab.research.google.com/github/Only-Mike/DeepLearning-and-AI/blob/main/Group%20Assigment2/GroupAssignment2.ipynb\" target=\"_parent\"><img src=\"https://colab.research.google.com/assets/colab-badge.svg\" alt=\"Open In Colab\"/></a>"
      ]
    },
    {
      "cell_type": "code",
      "execution_count": 2,
      "metadata": {
        "id": "jaHFoeMLqTrj"
      },
      "outputs": [],
      "source": [
        "import torch\n",
        "import pandas as pd\n",
        "import torch.nn as nn\n",
        "import torch.optim as optim\n",
        "import numpy as np\n",
        "from torch.utils.data import DataLoader, TensorDataset\n",
        "from sklearn.preprocessing import MinMaxScaler\n",
        "import matplotlib.pyplot as plt"
      ]
    },
    {
      "cell_type": "code",
      "source": [
        "stock_data_train = pd.read_csv('/content/train.csv')\n",
        "stock_data_test = pd.read_csv('/content/test.csv')\n",
        "\n",
        "stock_data = pd.concat([stock_data_train, stock_data_test])"
      ],
      "metadata": {
        "id": "Fac3b-nqtRvl"
      },
      "execution_count": 6,
      "outputs": []
    },
    {
      "cell_type": "code",
      "source": [
        "scaler = MinMaxScaler() \n",
        "data_scaled = scaler.fit_transform(stock_data[['store', 'product', 'number_sold']])\n",
        "data_s = pd.DataFrame(data_scaled, columns=['store', 'product', 'number_sold'])\n",
        "stock_data = data_s[['number_sold']].to_numpy()"
      ],
      "metadata": {
        "id": "BzwO1SqgxYmO"
      },
      "execution_count": 9,
      "outputs": []
    },
    {
      "cell_type": "code",
      "source": [
        "# Split the data into sequences for RNN input\n",
        "sequence_length = 20\n",
        "sequence_data = []\n",
        "sequence_labels = []\n",
        "for i in range(len(stock_data) - sequence_length):\n",
        "    sequence_data.append(stock_data[i:i+sequence_length])\n",
        "    sequence_labels.append(stock_data[i+sequence_length])\n",
        "sequence_data = np.array(sequence_data)\n",
        "sequence_labels = np.array(sequence_labels)\n",
        "\n",
        "train_data = sequence_data[:2000]\n",
        "train_labels = sequence_labels[:2000]\n",
        "test_data = sequence_data[2000:]\n",
        "test_labels = sequence_labels[2000:]"
      ],
      "metadata": {
        "id": "pfKhAMqeu01h"
      },
      "execution_count": 10,
      "outputs": []
    },
    {
      "cell_type": "code",
      "source": [
        "# Split the data into training and testing sets\n",
        "train_data = TensorDataset(torch.from_numpy(train_data), torch.from_numpy(train_labels))\n",
        "test_data = TensorDataset(torch.from_numpy(test_data), torch.from_numpy(test_labels))\n",
        "\n",
        "train_loader = DataLoader(train_data, batch_size=64, shuffle=True)\n",
        "test_loader = DataLoader(test_data, batch_size=64, shuffle=False)"
      ],
      "metadata": {
        "id": "ZE29l5Xmu6Y3"
      },
      "execution_count": 11,
      "outputs": []
    },
    {
      "cell_type": "code",
      "source": [
        "# Initialize the LSTM model\n",
        "input_size = 1\n",
        "hidden_size = 6\n",
        "output_size = 1\n",
        "\n",
        "# 1. Creating an LSTM model\n",
        "lstm = nn.LSTM(input_size, hidden_size, batch_first=True)\n",
        "fc = nn.Linear(hidden_size, output_size)\n",
        "\n",
        "criterion = nn.MSELoss()\n",
        "optimizer = optim.SGD(lstm.parameters(), lr=0.01)"
      ],
      "metadata": {
        "id": "XlIwp7o2yMV9"
      },
      "execution_count": 12,
      "outputs": []
    },
    {
      "cell_type": "code",
      "source": [
        "# Train the lstm model\n",
        "num_epochs = 100\n",
        "train_losses = []\n",
        "test_losses = []\n",
        "\n",
        "for epoch in range(num_epochs):\n",
        "    train_loss = 0\n",
        "\n",
        "    for i, (data, label) in enumerate(train_loader):\n",
        "        optimizer.zero_grad()\n",
        "\n",
        "        # Run the forward pass\n",
        "        hidden = (torch.zeros(1, data.size(0), hidden_size),\n",
        "                  torch.zeros(1, data.size(0), hidden_size))\n",
        "        output, hidden = lstm(data.float(), hidden)\n",
        "        output = fc(hidden[0][-1])\n",
        "\n",
        "        # 2. Network Evaluation\n",
        "        loss = criterion(output, label.float())\n",
        "\n",
        "        # 3. Gradient Calculation\n",
        "        loss.backward()\n",
        "\n",
        "        # 4. Back Propagation\n",
        "        optimizer.step()\n",
        "        train_loss += loss.item()\n",
        "\n",
        "    # Calculate the average training loss\n",
        "    train_loss = train_loss / len(train_loader)\n",
        "    train_losses.append(train_loss)\n",
        "\n",
        "# Plot the MSE loss for each epoch\n",
        "plt.plot(train_losses)\n",
        "plt.xlabel('Epoch')\n",
        "plt.ylabel('MSE Loss')\n",
        "plt.title('Training Loss over Epochs')\n",
        "plt.show()\n",
        "\n",
        "# Evaluate the lstm model\n",
        "mse = 0\n",
        "\n",
        "with torch.no_grad():\n",
        "    for data, label in test_loader:\n",
        "        hidden = (torch.zeros(1, data.size(0), hidden_size),\n",
        "                  torch.zeros(1, data.size(0), hidden_size))\n",
        "        output, hidden = lstm(data.float(), hidden)\n",
        "        output = fc(hidden[0][-1])\n",
        "\n",
        "        mse += ((output - label)**2).mean().item()\n",
        "\n",
        "mse /= len(test_loader)\n",
        "print('Test MSE: {}'.format(mse))"
      ],
      "metadata": {
        "colab": {
          "base_uri": "https://localhost:8080/",
          "height": 312
        },
        "id": "DZV_fPj5NeQd",
        "outputId": "fdd28d46-9765-44e7-80a8-063bf75058e8"
      },
      "execution_count": 13,
      "outputs": [
        {
          "output_type": "display_data",
          "data": {
            "text/plain": [
              "<Figure size 432x288 with 1 Axes>"
            ],
            "image/png": "[encoded data removed]"
          },
          "metadata": {
            "needs_background": "light"
          }
        },
        {
          "output_type": "stream",
          "name": "stdout",
          "text": [
            "Test MSE: 0.03665491626680788\n"
          ]
        }
      ]
    },
    {
      "cell_type": "code",
      "source": [],
      "metadata": {
        "id": "xEILTVf8yiDb"
      },
      "execution_count": null,
      "outputs": []
    }
  ]
}
